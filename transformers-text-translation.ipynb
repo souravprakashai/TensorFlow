{
 "cells": [
  {
   "cell_type": "markdown",
   "id": "7f2014ec",
   "metadata": {
    "papermill": {
     "duration": 0.003079,
     "end_time": "2023-08-27T05:51:47.591783",
     "exception": false,
     "start_time": "2023-08-27T05:51:47.588704",
     "status": "completed"
    },
    "tags": []
   },
   "source": [
    "# Neural Machine Translation with a Transformer and Keras"
   ]
  },
  {
   "cell_type": "markdown",
   "id": "d19f0965",
   "metadata": {
    "papermill": {
     "duration": 0.0023,
     "end_time": "2023-08-27T05:51:47.597013",
     "exception": false,
     "start_time": "2023-08-27T05:51:47.594713",
     "status": "completed"
    },
    "tags": []
   },
   "source": [
    "**Original Tutorial Link :** [TensorFlow Official Tutorial](https://www.tensorflow.org/text/tutorials/transformer)"
   ]
  },
  {
   "cell_type": "markdown",
   "id": "d52922b0",
   "metadata": {
    "papermill": {
     "duration": 0.002183,
     "end_time": "2023-08-27T05:51:47.601682",
     "exception": false,
     "start_time": "2023-08-27T05:51:47.599499",
     "status": "completed"
    },
    "tags": []
   },
   "source": [
    "**Workflow**\n",
    "\n",
    "1. Prepare Data\n",
    "2. Implement Components:\n",
    "    - Positional Embeddings\n",
    "    - Attention Layers\n",
    "    - Encoder \n",
    "    - Decoder\n",
    "3. Build & Train Transformer\n",
    "4. Generate Translations\n",
    "5. Export Model"
   ]
  },
  {
   "cell_type": "markdown",
   "id": "19d02bae",
   "metadata": {
    "papermill": {
     "duration": 0.002151,
     "end_time": "2023-08-27T05:51:47.606288",
     "exception": false,
     "start_time": "2023-08-27T05:51:47.604137",
     "status": "completed"
    },
    "tags": []
   },
   "source": [
    "# Libraries & Modules"
   ]
  },
  {
   "cell_type": "code",
   "execution_count": 1,
   "id": "d2aebdd1",
   "metadata": {
    "execution": {
     "iopub.execute_input": "2023-08-27T05:51:47.612947Z",
     "iopub.status.busy": "2023-08-27T05:51:47.612545Z",
     "iopub.status.idle": "2023-08-27T05:52:00.988311Z",
     "shell.execute_reply": "2023-08-27T05:52:00.986821Z"
    },
    "papermill": {
     "duration": 13.382585,
     "end_time": "2023-08-27T05:52:00.991312",
     "exception": false,
     "start_time": "2023-08-27T05:51:47.608727",
     "status": "completed"
    },
    "tags": []
   },
   "outputs": [
    {
     "name": "stdout",
     "output_type": "stream",
     "text": [
      "Python Env :  3.10.12 | packaged by conda-forge | (main, Jun 23 2023, 22:40:32) [GCC 12.3.0]\n",
      "TensorFlow :  2.12.0\n"
     ]
    }
   ],
   "source": [
    "# Manage Warnings\n",
    "import warnings\n",
    "warnings.filterwarnings(\"ignore\")\n",
    "\n",
    "# Modules\n",
    "import os\n",
    "import sys\n",
    "import time\n",
    "import logging\n",
    "import numpy as np\n",
    "import matplotlib.pyplot as plt\n",
    "\n",
    "# TensorFlow Log Level\n",
    "os.environ['TF_CPP_MIN_LOG_LEVEL'] = '2'\n",
    "\n",
    "# TensorFlow Libraries\n",
    "import tensorflow as tf\n",
    "import tensorflow_text\n",
    "import tensorflow_datasets as tfds\n",
    "\n",
    "# Environment/Versions\n",
    "print(\"Python Env : \", sys.version)\n",
    "print(\"TensorFlow : \", tf.__version__)"
   ]
  },
  {
   "cell_type": "code",
   "execution_count": null,
   "id": "ac979792",
   "metadata": {
    "papermill": {
     "duration": 0.002709,
     "end_time": "2023-08-27T05:52:00.997136",
     "exception": false,
     "start_time": "2023-08-27T05:52:00.994427",
     "status": "completed"
    },
    "tags": []
   },
   "outputs": [],
   "source": []
  }
 ],
 "metadata": {
  "kernelspec": {
   "display_name": "Python 3",
   "language": "python",
   "name": "python3"
  },
  "language_info": {
   "codemirror_mode": {
    "name": "ipython",
    "version": 3
   },
   "file_extension": ".py",
   "mimetype": "text/x-python",
   "name": "python",
   "nbconvert_exporter": "python",
   "pygments_lexer": "ipython3",
   "version": "3.10.12"
  },
  "papermill": {
   "default_parameters": {},
   "duration": 28.803408,
   "end_time": "2023-08-27T05:52:04.393394",
   "environment_variables": {},
   "exception": null,
   "input_path": "__notebook__.ipynb",
   "output_path": "__notebook__.ipynb",
   "parameters": {},
   "start_time": "2023-08-27T05:51:35.589986",
   "version": "2.4.0"
  }
 },
 "nbformat": 4,
 "nbformat_minor": 5
}
