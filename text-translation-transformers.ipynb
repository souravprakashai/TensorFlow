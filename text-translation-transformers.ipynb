{
 "cells": [
  {
   "cell_type": "markdown",
   "id": "4d3ca775",
   "metadata": {
    "papermill": {
     "duration": 0.005832,
     "end_time": "2023-08-31T04:02:52.212541",
     "exception": false,
     "start_time": "2023-08-31T04:02:52.206709",
     "status": "completed"
    },
    "tags": []
   },
   "source": [
    "# Neural Machine Translation with a Transformer and Keras"
   ]
  },
  {
   "cell_type": "markdown",
   "id": "0f4e4014",
   "metadata": {
    "papermill": {
     "duration": 0.004107,
     "end_time": "2023-08-31T04:02:52.221335",
     "exception": false,
     "start_time": "2023-08-31T04:02:52.217228",
     "status": "completed"
    },
    "tags": []
   },
   "source": [
    "**Original Tutorial Link :** [TensorFlow Official Tutorial](https://www.tensorflow.org/text/tutorials/transformer)"
   ]
  },
  {
   "cell_type": "markdown",
   "id": "0e090077",
   "metadata": {
    "papermill": {
     "duration": 0.004279,
     "end_time": "2023-08-31T04:02:52.230665",
     "exception": false,
     "start_time": "2023-08-31T04:02:52.226386",
     "status": "completed"
    },
    "tags": []
   },
   "source": [
    "**Workflow**\n",
    "\n",
    "1. Prepare Data\n",
    "2. Implement Components:\n",
    "    - Positional Embeddings\n",
    "    - Attention Layers\n",
    "    - Encoder \n",
    "    - Decoder\n",
    "3. Build & Train Transformer\n",
    "4. Generate Translations\n",
    "5. Export Model"
   ]
  },
  {
   "cell_type": "markdown",
   "id": "44bf5466",
   "metadata": {
    "papermill": {
     "duration": 0.004534,
     "end_time": "2023-08-31T04:02:52.239610",
     "exception": false,
     "start_time": "2023-08-31T04:02:52.235076",
     "status": "completed"
    },
    "tags": []
   },
   "source": [
    "# Libraries & Modules"
   ]
  },
  {
   "cell_type": "code",
   "execution_count": 1,
   "id": "607aec82",
   "metadata": {
    "execution": {
     "iopub.execute_input": "2023-08-31T04:02:52.251880Z",
     "iopub.status.busy": "2023-08-31T04:02:52.251377Z",
     "iopub.status.idle": "2023-08-31T04:03:09.572037Z",
     "shell.execute_reply": "2023-08-31T04:03:09.570496Z"
    },
    "papermill": {
     "duration": 17.329958,
     "end_time": "2023-08-31T04:03:09.574816",
     "exception": false,
     "start_time": "2023-08-31T04:02:52.244858",
     "status": "completed"
    },
    "tags": []
   },
   "outputs": [
    {
     "name": "stdout",
     "output_type": "stream",
     "text": [
      "Python Env :  3.10.12 | packaged by conda-forge | (main, Jun 23 2023, 22:40:32) [GCC 12.3.0]\n",
      "TensorFlow :  2.12.0\n"
     ]
    }
   ],
   "source": [
    "# Manage Warnings\n",
    "import warnings\n",
    "warnings.filterwarnings(\"ignore\")\n",
    "\n",
    "# Modules\n",
    "import os\n",
    "import sys\n",
    "import time\n",
    "import logging\n",
    "import numpy as np\n",
    "import matplotlib.pyplot as plt\n",
    "\n",
    "# TensorFlow Log Level\n",
    "os.environ['TF_CPP_MIN_LOG_LEVEL'] = '2'\n",
    "\n",
    "# TensorFlow Libraries\n",
    "import tensorflow as tf\n",
    "import tensorflow_text\n",
    "import tensorflow_datasets as tfds\n",
    "\n",
    "# Environment/Versions\n",
    "print(\"Python Env : \", sys.version)\n",
    "print(\"TensorFlow : \", tf.__version__)"
   ]
  },
  {
   "cell_type": "code",
   "execution_count": null,
   "id": "867828d5",
   "metadata": {
    "papermill": {
     "duration": 0.00443,
     "end_time": "2023-08-31T04:03:09.584045",
     "exception": false,
     "start_time": "2023-08-31T04:03:09.579615",
     "status": "completed"
    },
    "tags": []
   },
   "outputs": [],
   "source": []
  }
 ],
 "kernelspec": {
  "display_name": "Python 3",
  "language": "python",
  "name": "python3"
 },
 "language_info": {
  "codemirror_mode": {
   "name": "ipython",
   "version": 3
  },
  "file_extension": ".py",
  "mimetype": "text/x-python",
  "name": "python",
  "nbconvert_exporter": "python",
  "pygments_lexer": "ipython3",
  "version": "3.6.4"
 },
 "metadata": {
  "kernelspec": {
   "display_name": "Python 3",
   "language": "python",
   "name": "python3"
  },
  "language_info": {
   "codemirror_mode": {
    "name": "ipython",
    "version": 3
   },
   "file_extension": ".py",
   "mimetype": "text/x-python",
   "name": "python",
   "nbconvert_exporter": "python",
   "pygments_lexer": "ipython3",
   "version": "3.10.12"
  },
  "papermill": {
   "default_parameters": {},
   "duration": 33.919884,
   "end_time": "2023-08-31T04:03:12.338608",
   "environment_variables": {},
   "exception": null,
   "input_path": "__notebook__.ipynb",
   "output_path": "__notebook__.ipynb",
   "parameters": {},
   "start_time": "2023-08-31T04:02:38.418724",
   "version": "2.4.0"
  }
 },
 "nbformat": 4,
 "nbformat_minor": 5
}
