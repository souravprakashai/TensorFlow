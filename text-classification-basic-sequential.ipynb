{
 "cells": [
  {
   "cell_type": "markdown",
   "id": "e5598713",
   "metadata": {
    "papermill": {
     "duration": 0.005926,
     "end_time": "2023-08-30T15:54:50.109891",
     "exception": false,
     "start_time": "2023-08-30T15:54:50.103965",
     "status": "completed"
    },
    "tags": []
   },
   "source": [
    "# Binary Sentiment Analysis on IMDB Reviews Dataset"
   ]
  },
  {
   "cell_type": "markdown",
   "id": "f5d2279f",
   "metadata": {
    "papermill": {
     "duration": 0.004611,
     "end_time": "2023-08-30T15:54:50.119585",
     "exception": false,
     "start_time": "2023-08-30T15:54:50.114974",
     "status": "completed"
    },
    "tags": []
   },
   "source": [
    "# Libraries & Modules"
   ]
  },
  {
   "cell_type": "code",
   "execution_count": 1,
   "id": "efabf529",
   "metadata": {
    "execution": {
     "iopub.execute_input": "2023-08-30T15:54:50.131330Z",
     "iopub.status.busy": "2023-08-30T15:54:50.130975Z",
     "iopub.status.idle": "2023-08-30T15:54:58.150856Z",
     "shell.execute_reply": "2023-08-30T15:54:58.149490Z"
    },
    "papermill": {
     "duration": 8.029031,
     "end_time": "2023-08-30T15:54:58.153687",
     "exception": false,
     "start_time": "2023-08-30T15:54:50.124656",
     "status": "completed"
    },
    "tags": []
   },
   "outputs": [
    {
     "name": "stdout",
     "output_type": "stream",
     "text": [
      "Python Env :  3.10.12 | packaged by conda-forge | (main, Jun 23 2023, 22:40:32) [GCC 12.3.0]\n",
      "TensorFlow :  2.12.0\n"
     ]
    }
   ],
   "source": [
    "# Manage Warnings\n",
    "import warnings\n",
    "warnings.filterwarnings(\"ignore\")\n",
    "\n",
    "# Modules\n",
    "import os\n",
    "import sys\n",
    "import shutil\n",
    "import string\n",
    "import re as regex\n",
    "import matplotlib.pyplot as plt\n",
    "\n",
    "# TensorFlow Log Level\n",
    "os.environ['TF_CPP_MIN_LOG_LEVEL'] = '2'\n",
    "\n",
    "# TensorFlow Libraries\n",
    "import tensorflow as tf\n",
    "\n",
    "# Environment/Versions\n",
    "print(\"Python Env : \", sys.version)\n",
    "print(\"TensorFlow : \", tf.__version__)"
   ]
  },
  {
   "cell_type": "markdown",
   "id": "a36c8fc2",
   "metadata": {
    "papermill": {
     "duration": 0.005373,
     "end_time": "2023-08-30T15:54:58.164557",
     "exception": false,
     "start_time": "2023-08-30T15:54:58.159184",
     "status": "completed"
    },
    "tags": []
   },
   "source": [
    "# Dataset"
   ]
  },
  {
   "cell_type": "markdown",
   "id": "af4ab6bd",
   "metadata": {
    "papermill": {
     "duration": 0.005262,
     "end_time": "2023-08-30T15:54:58.175209",
     "exception": false,
     "start_time": "2023-08-30T15:54:58.169947",
     "status": "completed"
    },
    "tags": []
   },
   "source": [
    "## Downloading & Exploring"
   ]
  },
  {
   "cell_type": "code",
   "execution_count": 2,
   "id": "8ec480bc",
   "metadata": {
    "execution": {
     "iopub.execute_input": "2023-08-30T15:54:58.188484Z",
     "iopub.status.busy": "2023-08-30T15:54:58.187737Z",
     "iopub.status.idle": "2023-08-30T15:55:30.029377Z",
     "shell.execute_reply": "2023-08-30T15:55:30.028115Z"
    },
    "papermill": {
     "duration": 31.851867,
     "end_time": "2023-08-30T15:55:30.032363",
     "exception": false,
     "start_time": "2023-08-30T15:54:58.180496",
     "status": "completed"
    },
    "tags": []
   },
   "outputs": [
    {
     "name": "stdout",
     "output_type": "stream",
     "text": [
      "Downloading data from https://ai.stanford.edu/~amaas/data/sentiment/aclImdb_v1.tar.gz\n",
      "84125825/84125825 [==============================] - 2s 0us/step\n"
     ]
    }
   ],
   "source": [
    "# Dataset Download Path\n",
    "url = \"https://ai.stanford.edu/~amaas/data/sentiment/aclImdb_v1.tar.gz\"\n",
    "\n",
    "# Retrieve File (and untar)\n",
    "dataset = tf.keras.utils.get_file(fname=\"aclImdb_v1\", \n",
    "                                  origin=url, \n",
    "                                  untar=True, \n",
    "                                  cache_dir=\".\", \n",
    "                                  cache_subdir=\"\")\n",
    "\n",
    "# Dataset Directory\n",
    "dataset_dir = os.path.join(os.path.dirname(dataset), \"aclImdb\")"
   ]
  },
  {
   "cell_type": "code",
   "execution_count": 3,
   "id": "6861de98",
   "metadata": {
    "execution": {
     "iopub.execute_input": "2023-08-30T15:55:30.050952Z",
     "iopub.status.busy": "2023-08-30T15:55:30.050529Z",
     "iopub.status.idle": "2023-08-30T15:55:30.059393Z",
     "shell.execute_reply": "2023-08-30T15:55:30.058138Z"
    },
    "papermill": {
     "duration": 0.020748,
     "end_time": "2023-08-30T15:55:30.061667",
     "exception": false,
     "start_time": "2023-08-30T15:55:30.040919",
     "status": "completed"
    },
    "tags": []
   },
   "outputs": [
    {
     "data": {
      "text/plain": [
       "['imdb.vocab', 'imdbEr.txt', 'README', 'test', 'train']"
      ]
     },
     "metadata": {},
     "output_type": "display_data"
    }
   ],
   "source": [
    "# List Dataset Sub-Directories & Files\n",
    "display(os.listdir(dataset_dir))"
   ]
  },
  {
   "cell_type": "code",
   "execution_count": 4,
   "id": "ba833322",
   "metadata": {
    "execution": {
     "iopub.execute_input": "2023-08-30T15:55:30.080973Z",
     "iopub.status.busy": "2023-08-30T15:55:30.080016Z",
     "iopub.status.idle": "2023-08-30T15:55:30.087056Z",
     "shell.execute_reply": "2023-08-30T15:55:30.085890Z"
    },
    "papermill": {
     "duration": 0.01959,
     "end_time": "2023-08-30T15:55:30.089839",
     "exception": false,
     "start_time": "2023-08-30T15:55:30.070249",
     "status": "completed"
    },
    "tags": []
   },
   "outputs": [
    {
     "name": "stdout",
     "output_type": "stream",
     "text": [
      "Large Movie Review Dataset v1.0\n",
      "\n",
      "Overview\n",
      "\n",
      "This dataset contains movie reviews along with their associated binary\n",
      "sentiment polarity labels. It is intended to serve as a benchmark for\n",
      "sentiment classification. This document outlines how the dataset was\n",
      "gathered, and how to use the files provided. \n",
      "\n",
      "Dataset \n",
      "\n",
      "The core dataset contains 50,000 reviews split evenly into 25k train\n",
      "and 25k test sets. The overall distribution of labels is balanced (25k\n",
      "pos and 25k neg). We also include an additional 50,000 unlabeled\n",
      "documents for unsupervised learning. \n",
      "\n",
      "In the entire collection, no more than 30 reviews are allowed for any\n",
      "given movie because reviews for the same movie tend to have correlated\n",
      "ratings. Further, the train and test sets contain a disjoint set of\n",
      "movies, so no significant performance is obtained by memorizing\n",
      "movie-unique terms and their associated with observed labels.  In the\n",
      "labeled train/test sets, a negative review has a score <= 4 out of 10,\n",
      "and a positive review has a score >= 7 out of 10. Thus reviews with\n",
      "more neutral ratings are not included in the train/test sets. In the\n",
      "unsupervised set, reviews of any rating are included and there are an\n",
      "even number of reviews > 5 and <= 5.\n",
      "\n",
      "Files\n",
      "\n",
      "There are two top-level directories [train/, test/] corresponding to\n",
      "the training and test sets. Each contains [pos/, neg/] directories for\n",
      "the reviews with binary labels positive and negative. Within these\n",
      "directories, reviews are stored in text files named following the\n",
      "convention [[id]_[rating].txt] where [id] is a unique id and [rating] is\n",
      "the star rating for that review on a 1-10 scale. For example, the file\n",
      "[test/pos/200_8.txt] is the text for a positive-labeled test set\n",
      "example with unique id 200 and star rating 8/10 from IMDb. The\n",
      "[train/unsup/] directory has 0 for all ratings because the ratings are\n",
      "omitted for this portion of the dataset.\n",
      "\n",
      "We also include the IMDb URLs for each review in a separate\n",
      "[urls_[pos, neg, unsup].txt] file. A review with unique id 200 will\n",
      "have its URL on line 200 of this file. Due the ever-changing IMDb, we\n",
      "are unable to link directly to the review, but only to the movie's\n",
      "review page.\n",
      "\n",
      "In addition to the review text files, we include already-tokenized bag\n",
      "of words (BoW) features that were used in our experiments. These \n",
      "are stored in .feat files in the train/test directories. Each .feat\n",
      "file is in LIBSVM format, an ascii sparse-vector format for labeled\n",
      "data.  The feature indices in these files start from 0, and the text\n",
      "tokens corresponding to a feature index is found in [imdb.vocab]. So a\n",
      "line with 0:7 in a .feat file means the first word in [imdb.vocab]\n",
      "(the) appears 7 times in that review.\n",
      "\n",
      "LIBSVM page for details on .feat file format:\n",
      "http://www.csie.ntu.edu.tw/~cjlin/libsvm/\n",
      "\n",
      "We also include [imdbEr.txt] which contains the expected rating for\n",
      "each token in [imdb.vocab] as computed by (Potts, 2011). The expected\n",
      "rating is a good way to get a sense for the average polarity of a word\n",
      "in the dataset.\n",
      "\n",
      "Citing the dataset\n",
      "\n",
      "When using this dataset please cite our ACL 2011 paper which\n",
      "introduces it. This paper also contains classification results which\n",
      "you may want to compare against.\n",
      "\n",
      "\n",
      "@InProceedings{maas-EtAl:2011:ACL-HLT2011,\n",
      "  author    = {Maas, Andrew L.  and  Daly, Raymond E.  and  Pham, Peter T.  and  Huang, Dan  and  Ng, Andrew Y.  and  Potts, Christopher},\n",
      "  title     = {Learning Word Vectors for Sentiment Analysis},\n",
      "  booktitle = {Proceedings of the 49th Annual Meeting of the Association for Computational Linguistics: Human Language Technologies},\n",
      "  month     = {June},\n",
      "  year      = {2011},\n",
      "  address   = {Portland, Oregon, USA},\n",
      "  publisher = {Association for Computational Linguistics},\n",
      "  pages     = {142--150},\n",
      "  url       = {http://www.aclweb.org/anthology/P11-1015}\n",
      "}\n",
      "\n",
      "References\n",
      "\n",
      "Potts, Christopher. 2011. On the negativity of negation. In Nan Li and\n",
      "David Lutz, eds., Proceedings of Semantics and Linguistic Theory 20,\n",
      "636-659.\n",
      "\n",
      "Contact\n",
      "\n",
      "For questions/comments/corrections please contact Andrew Maas\n",
      "amaas@cs.stanford.edu\n",
      "\n"
     ]
    }
   ],
   "source": [
    "# Review Readme File\n",
    "with open(os.path.join(dataset_dir, 'README'), 'r') as f:\n",
    "    print(f.read())"
   ]
  },
  {
   "cell_type": "code",
   "execution_count": 5,
   "id": "cb9aff90",
   "metadata": {
    "execution": {
     "iopub.execute_input": "2023-08-30T15:55:30.111117Z",
     "iopub.status.busy": "2023-08-30T15:55:30.110313Z",
     "iopub.status.idle": "2023-08-30T15:55:30.120178Z",
     "shell.execute_reply": "2023-08-30T15:55:30.119182Z"
    },
    "papermill": {
     "duration": 0.023694,
     "end_time": "2023-08-30T15:55:30.122298",
     "exception": false,
     "start_time": "2023-08-30T15:55:30.098604",
     "status": "completed"
    },
    "tags": []
   },
   "outputs": [
    {
     "data": {
      "text/plain": [
       "['urls_unsup.txt',\n",
       " 'urls_neg.txt',\n",
       " 'urls_pos.txt',\n",
       " 'neg',\n",
       " 'unsup',\n",
       " 'unsupBow.feat',\n",
       " 'pos',\n",
       " 'labeledBow.feat']"
      ]
     },
     "metadata": {},
     "output_type": "display_data"
    },
    {
     "data": {
      "text/plain": [
       "['urls_neg.txt', 'urls_pos.txt', 'neg', 'pos', 'labeledBow.feat']"
      ]
     },
     "metadata": {},
     "output_type": "display_data"
    }
   ],
   "source": [
    "# Train & Test Directories\n",
    "display(os.listdir(f\"{dataset_dir}/train\"))\n",
    "display(os.listdir(f\"{dataset_dir}/test\"))"
   ]
  },
  {
   "cell_type": "code",
   "execution_count": null,
   "id": "cdb51eb2",
   "metadata": {
    "papermill": {
     "duration": 0.008802,
     "end_time": "2023-08-30T15:55:30.140235",
     "exception": false,
     "start_time": "2023-08-30T15:55:30.131433",
     "status": "completed"
    },
    "tags": []
   },
   "outputs": [],
   "source": []
  }
 ],
 "kernelspec": {
  "display_name": "Python 3",
  "language": "python",
  "name": "python3"
 },
 "language_info": {
  "codemirror_mode": {
   "name": "ipython",
   "version": 3
  },
  "file_extension": ".py",
  "mimetype": "text/x-python",
  "name": "python",
  "nbconvert_exporter": "python",
  "pygments_lexer": "ipython3",
  "version": "3.6.4"
 },
 "metadata": {
  "kernelspec": {
   "display_name": "Python 3",
   "language": "python",
   "name": "python3"
  },
  "language_info": {
   "codemirror_mode": {
    "name": "ipython",
    "version": 3
   },
   "file_extension": ".py",
   "mimetype": "text/x-python",
   "name": "python",
   "nbconvert_exporter": "python",
   "pygments_lexer": "ipython3",
   "version": "3.10.12"
  },
  "papermill": {
   "default_parameters": {},
   "duration": 52.533278,
   "end_time": "2023-08-30T15:55:32.730263",
   "environment_variables": {},
   "exception": null,
   "input_path": "__notebook__.ipynb",
   "output_path": "__notebook__.ipynb",
   "parameters": {},
   "start_time": "2023-08-30T15:54:40.196985",
   "version": "2.4.0"
  }
 },
 "nbformat": 4,
 "nbformat_minor": 5
}
