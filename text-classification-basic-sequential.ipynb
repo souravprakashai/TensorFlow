{
 "cells": [
  {
   "cell_type": "markdown",
   "id": "cb85d508",
   "metadata": {
    "papermill": {
     "duration": 0.010782,
     "end_time": "2023-09-01T05:53:24.091119",
     "exception": false,
     "start_time": "2023-09-01T05:53:24.080337",
     "status": "completed"
    },
    "tags": []
   },
   "source": [
    "# Binary Sentiment Analysis on IMDB Reviews Dataset"
   ]
  },
  {
   "cell_type": "markdown",
   "id": "c313f43d",
   "metadata": {
    "papermill": {
     "duration": 0.009764,
     "end_time": "2023-09-01T05:53:24.111573",
     "exception": false,
     "start_time": "2023-09-01T05:53:24.101809",
     "status": "completed"
    },
    "tags": []
   },
   "source": [
    "# Libraries & Modules"
   ]
  },
  {
   "cell_type": "code",
   "execution_count": 1,
   "id": "5f785893",
   "metadata": {
    "execution": {
     "iopub.execute_input": "2023-09-01T05:53:24.134725Z",
     "iopub.status.busy": "2023-09-01T05:53:24.134216Z",
     "iopub.status.idle": "2023-09-01T05:53:34.027689Z",
     "shell.execute_reply": "2023-09-01T05:53:34.026535Z"
    },
    "papermill": {
     "duration": 9.907309,
     "end_time": "2023-09-01T05:53:34.030330",
     "exception": false,
     "start_time": "2023-09-01T05:53:24.123021",
     "status": "completed"
    },
    "tags": []
   },
   "outputs": [
    {
     "name": "stdout",
     "output_type": "stream",
     "text": [
      "Python Env :  3.10.12 | packaged by conda-forge | (main, Jun 23 2023, 22:40:32) [GCC 12.3.0]\n",
      "TensorFlow :  2.12.0\n"
     ]
    }
   ],
   "source": [
    "# Manage Warnings\n",
    "import warnings\n",
    "warnings.filterwarnings(\"ignore\")\n",
    "\n",
    "# Libraris & Modules\n",
    "import os\n",
    "import sys\n",
    "import shutil\n",
    "import re as regex\n",
    "import numpy as np\n",
    "import matplotlib.pyplot as plt\n",
    "from string import punctuation\n",
    "\n",
    "# TensorFlow Log Level\n",
    "os.environ['TF_CPP_MIN_LOG_LEVEL'] = '2'\n",
    "\n",
    "# TensorFlow Libraries\n",
    "import tensorflow as tf\n",
    "\n",
    "# Environment/Versions\n",
    "print(\"Python Env : \", sys.version)\n",
    "print(\"TensorFlow : \", tf.__version__)\n",
    "\n",
    "# Random Generator Seed\n",
    "random_seed = 47"
   ]
  },
  {
   "cell_type": "markdown",
   "id": "67878330",
   "metadata": {
    "papermill": {
     "duration": 0.009711,
     "end_time": "2023-09-01T05:53:34.050299",
     "exception": false,
     "start_time": "2023-09-01T05:53:34.040588",
     "status": "completed"
    },
    "tags": []
   },
   "source": [
    "# Downloading & Exploring Dataset"
   ]
  },
  {
   "cell_type": "code",
   "execution_count": 2,
   "id": "7fb6b2a3",
   "metadata": {
    "execution": {
     "iopub.execute_input": "2023-09-01T05:53:34.073203Z",
     "iopub.status.busy": "2023-09-01T05:53:34.071975Z",
     "iopub.status.idle": "2023-09-01T05:54:12.040970Z",
     "shell.execute_reply": "2023-09-01T05:54:12.039766Z"
    },
    "papermill": {
     "duration": 37.983385,
     "end_time": "2023-09-01T05:54:12.043754",
     "exception": false,
     "start_time": "2023-09-01T05:53:34.060369",
     "status": "completed"
    },
    "tags": []
   },
   "outputs": [
    {
     "name": "stdout",
     "output_type": "stream",
     "text": [
      "Downloading data from https://ai.stanford.edu/~amaas/data/sentiment/aclImdb_v1.tar.gz\n",
      "84125825/84125825 [==============================] - 8s 0us/step\n"
     ]
    }
   ],
   "source": [
    "# Dataset Download Path\n",
    "url = \"https://ai.stanford.edu/~amaas/data/sentiment/aclImdb_v1.tar.gz\"\n",
    "\n",
    "# Retrieve File (and untar)\n",
    "dataset = tf.keras.utils.get_file(fname=\"aclImdb_v1\", \n",
    "                                  origin=url, \n",
    "                                  untar=True, \n",
    "                                  cache_dir=\".\", \n",
    "                                  cache_subdir=\"\")\n",
    "\n",
    "# Dataset Directory\n",
    "dataset_dir = os.path.join(os.path.dirname(dataset), \"aclImdb\")"
   ]
  },
  {
   "cell_type": "code",
   "execution_count": 3,
   "id": "28f5c6d9",
   "metadata": {
    "execution": {
     "iopub.execute_input": "2023-09-01T05:54:12.074733Z",
     "iopub.status.busy": "2023-09-01T05:54:12.074304Z",
     "iopub.status.idle": "2023-09-01T05:54:12.082606Z",
     "shell.execute_reply": "2023-09-01T05:54:12.081479Z"
    },
    "papermill": {
     "duration": 0.026526,
     "end_time": "2023-09-01T05:54:12.084911",
     "exception": false,
     "start_time": "2023-09-01T05:54:12.058385",
     "status": "completed"
    },
    "tags": []
   },
   "outputs": [
    {
     "data": {
      "text/plain": [
       "['imdb.vocab', 'README', 'imdbEr.txt', 'train', 'test']"
      ]
     },
     "metadata": {},
     "output_type": "display_data"
    }
   ],
   "source": [
    "# List Dataset Sub-Directories & Files\n",
    "display(os.listdir(dataset_dir))"
   ]
  },
  {
   "cell_type": "code",
   "execution_count": 4,
   "id": "e9ebadff",
   "metadata": {
    "execution": {
     "iopub.execute_input": "2023-09-01T05:54:12.117541Z",
     "iopub.status.busy": "2023-09-01T05:54:12.116607Z",
     "iopub.status.idle": "2023-09-01T05:54:12.123964Z",
     "shell.execute_reply": "2023-09-01T05:54:12.122554Z"
    },
    "papermill": {
     "duration": 0.027745,
     "end_time": "2023-09-01T05:54:12.127243",
     "exception": false,
     "start_time": "2023-09-01T05:54:12.099498",
     "status": "completed"
    },
    "tags": []
   },
   "outputs": [
    {
     "name": "stdout",
     "output_type": "stream",
     "text": [
      "Large Movie Review Dataset v1.0\n",
      "\n",
      "Overview\n",
      "\n",
      "This dataset contains movie reviews along with their associated binary\n",
      "sentiment polarity labels. It is intended to serve as a benchmark for\n",
      "sentiment classification. This document outlines how the dataset was\n",
      "gathered, and how to use the files provided. \n",
      "\n",
      "Dataset \n",
      "\n",
      "The core dataset contains 50,000 reviews split evenly into 25k train\n",
      "and 25k test sets. The overall distribution of labels is balanced (25k\n",
      "pos and 25k neg). We also include an additional 50,000 unlabeled\n",
      "documents for unsupervised learning. \n",
      "\n",
      "In the entire collection, no more than 30 reviews are allowed for any\n",
      "given movie because reviews for the same movie tend to have correlated\n",
      "ratings. Further, the train and test sets contain a disjoint set of\n",
      "movies, so no significant performance is obtained by memorizing\n",
      "movie-unique terms and their associated with observed labels.  In the\n",
      "labeled train/test sets, a negative review has a score <= 4 out of 10,\n",
      "and a positive review has a score >= 7 out of 10. Thus reviews with\n",
      "more neutral ratings are not included in the train/test sets. In the\n",
      "unsupervised set, reviews of any rating are included and there are an\n",
      "even number of reviews > 5 and <= 5.\n",
      "\n",
      "Files\n",
      "\n",
      "There are two top-level directories [train/, test/] corresponding to\n",
      "the training and test sets. Each contains [pos/, neg/] directories for\n",
      "the reviews with binary labels positive and negative. Within these\n",
      "directories, reviews are stored in text files named following the\n",
      "convention [[id]_[rating].txt] where [id] is a unique id and [rating] is\n",
      "the star rating for that review on a 1-10 scale. For example, the file\n",
      "[test/pos/200_8.txt] is the text for a positive-labeled test set\n",
      "example with unique id 200 and star rating 8/10 from IMDb. The\n",
      "[train/unsup/] directory has 0 for all ratings because the ratings are\n",
      "omitted for this portion of the dataset.\n",
      "\n",
      "We also include the IMDb URLs for each review in a separate\n",
      "[urls_[pos, neg, unsup].txt] file. A review with unique id 200 will\n",
      "have its URL on line 200 of this file. Due the ever-changing IMDb, we\n",
      "are unable to link directly to the review, but only to the movie's\n",
      "review page.\n",
      "\n",
      "In addition to the review text files, we include already-tokenized bag\n",
      "of words (BoW) features that were used in our experiments. These \n",
      "are stored in .feat files in the train/test directories. Each .feat\n",
      "file is in LIBSVM format, an ascii sparse-vector format for labeled\n",
      "data.  The feature indices in these files start from 0, and the text\n",
      "tokens corresponding to a feature index is found in [imdb.vocab]. So a\n",
      "line with 0:7 in a .feat file means the first word in [imdb.vocab]\n",
      "(the) appears 7 times in that review.\n",
      "\n",
      "LIBSVM page for details on .feat file format:\n",
      "http://www.csie.ntu.edu.tw/~cjlin/libsvm/\n",
      "\n",
      "We also include [imdbEr.txt] which contains the expected rating for\n",
      "each token in [imdb.vocab] as computed by (Potts, 2011). The expected\n",
      "rating is a good way to get a sense for the average polarity of a word\n",
      "in the dataset.\n",
      "\n",
      "Citing the dataset\n",
      "\n",
      "When using this dataset please cite our ACL 2011 paper which\n",
      "introduces it. This paper also contains classification results which\n",
      "you may want to compare against.\n",
      "\n",
      "\n",
      "@InProceedings{maas-EtAl:2011:ACL-HLT2011,\n",
      "  author    = {Maas, Andrew L.  and  Daly, Raymond E.  and  Pham, Peter T.  and  Huang, Dan  and  Ng, Andrew Y.  and  Potts, Christopher},\n",
      "  title     = {Learning Word Vectors for Sentiment Analysis},\n",
      "  booktitle = {Proceedings of the 49th Annual Meeting of the Association for Computational Linguistics: Human Language Technologies},\n",
      "  month     = {June},\n",
      "  year      = {2011},\n",
      "  address   = {Portland, Oregon, USA},\n",
      "  publisher = {Association for Computational Linguistics},\n",
      "  pages     = {142--150},\n",
      "  url       = {http://www.aclweb.org/anthology/P11-1015}\n",
      "}\n",
      "\n",
      "References\n",
      "\n",
      "Potts, Christopher. 2011. On the negativity of negation. In Nan Li and\n",
      "David Lutz, eds., Proceedings of Semantics and Linguistic Theory 20,\n",
      "636-659.\n",
      "\n",
      "Contact\n",
      "\n",
      "For questions/comments/corrections please contact Andrew Maas\n",
      "amaas@cs.stanford.edu\n",
      "\n"
     ]
    }
   ],
   "source": [
    "# Review Readme File\n",
    "with open(os.path.join(dataset_dir, 'README'), 'r') as f:\n",
    "    print(f.read())"
   ]
  },
  {
   "cell_type": "code",
   "execution_count": 5,
   "id": "1b137df0",
   "metadata": {
    "execution": {
     "iopub.execute_input": "2023-09-01T05:54:12.159524Z",
     "iopub.status.busy": "2023-09-01T05:54:12.159146Z",
     "iopub.status.idle": "2023-09-01T05:54:12.167824Z",
     "shell.execute_reply": "2023-09-01T05:54:12.166866Z"
    },
    "papermill": {
     "duration": 0.027068,
     "end_time": "2023-09-01T05:54:12.169935",
     "exception": false,
     "start_time": "2023-09-01T05:54:12.142867",
     "status": "completed"
    },
    "tags": []
   },
   "outputs": [
    {
     "data": {
      "text/plain": [
       "['neg',\n",
       " 'pos',\n",
       " 'urls_pos.txt',\n",
       " 'unsupBow.feat',\n",
       " 'urls_neg.txt',\n",
       " 'urls_unsup.txt',\n",
       " 'labeledBow.feat',\n",
       " 'unsup']"
      ]
     },
     "metadata": {},
     "output_type": "display_data"
    },
    {
     "data": {
      "text/plain": [
       "['neg', 'pos', 'urls_pos.txt', 'urls_neg.txt', 'labeledBow.feat']"
      ]
     },
     "metadata": {},
     "output_type": "display_data"
    }
   ],
   "source": [
    "# Train & Test Directories\n",
    "display(os.listdir(f\"{dataset_dir}/train\"))\n",
    "display(os.listdir(f\"{dataset_dir}/test\"))"
   ]
  },
  {
   "cell_type": "code",
   "execution_count": 6,
   "id": "296d313f",
   "metadata": {
    "execution": {
     "iopub.execute_input": "2023-09-01T05:54:12.206470Z",
     "iopub.status.busy": "2023-09-01T05:54:12.205885Z",
     "iopub.status.idle": "2023-09-01T05:54:12.214551Z",
     "shell.execute_reply": "2023-09-01T05:54:12.213392Z"
    },
    "papermill": {
     "duration": 0.032087,
     "end_time": "2023-09-01T05:54:12.217501",
     "exception": false,
     "start_time": "2023-09-01T05:54:12.185414",
     "status": "completed"
    },
    "tags": []
   },
   "outputs": [
    {
     "data": {
      "text/plain": [
       "['neg',\n",
       " 'pos',\n",
       " 'urls_pos.txt',\n",
       " 'unsupBow.feat',\n",
       " 'urls_neg.txt',\n",
       " 'urls_unsup.txt',\n",
       " 'labeledBow.feat',\n",
       " 'unsup']"
      ]
     },
     "execution_count": 6,
     "metadata": {},
     "output_type": "execute_result"
    }
   ],
   "source": [
    "# Training Data Directory\n",
    "train_dir = os.path.join(dataset_dir, \"train\")\n",
    "train_dir_items = os.listdir(train_dir)\n",
    "train_dir_items"
   ]
  },
  {
   "cell_type": "code",
   "execution_count": 7,
   "id": "bb313ef6",
   "metadata": {
    "execution": {
     "iopub.execute_input": "2023-09-01T05:54:12.257711Z",
     "iopub.status.busy": "2023-09-01T05:54:12.257212Z",
     "iopub.status.idle": "2023-09-01T05:54:12.264983Z",
     "shell.execute_reply": "2023-09-01T05:54:12.264150Z"
    },
    "papermill": {
     "duration": 0.032782,
     "end_time": "2023-09-01T05:54:12.267091",
     "exception": false,
     "start_time": "2023-09-01T05:54:12.234309",
     "status": "completed"
    },
    "tags": []
   },
   "outputs": [
    {
     "data": {
      "text/plain": [
       "['neg', 'pos', 'urls_pos.txt', 'urls_neg.txt', 'labeledBow.feat']"
      ]
     },
     "execution_count": 7,
     "metadata": {},
     "output_type": "execute_result"
    }
   ],
   "source": [
    "# Testing Data Directory\n",
    "test_dir = os.path.join(dataset_dir, \"test\")\n",
    "os.listdir(test_dir)"
   ]
  },
  {
   "cell_type": "code",
   "execution_count": 8,
   "id": "c3e1b10f",
   "metadata": {
    "execution": {
     "iopub.execute_input": "2023-09-01T05:54:12.302052Z",
     "iopub.status.busy": "2023-09-01T05:54:12.301629Z",
     "iopub.status.idle": "2023-09-01T05:54:12.314657Z",
     "shell.execute_reply": "2023-09-01T05:54:12.313546Z"
    },
    "papermill": {
     "duration": 0.03215,
     "end_time": "2023-09-01T05:54:12.317019",
     "exception": false,
     "start_time": "2023-09-01T05:54:12.284869",
     "status": "completed"
    },
    "tags": []
   },
   "outputs": [
    {
     "name": "stdout",
     "output_type": "stream",
     "text": [
      "File : 9318_9.txt\n",
      "\n",
      "Red Skelton was still another major star who made the transition from movies to television with ease.<br /><br />His shows certainly brought a laughter to the American households of years back.<br /><br />He would begin the show with an opening monologue. Afterwards, we would have a variety of characters. Remember Gertrude and Heathcliff in the monologue? How can we ever forget San Fernando Red? I remember one episode where as a king Red introduced his queen by referring to her as your fatness.<br /><br />Go know that Red would use his comedic talents to really hide from his tragic life. He lost a son to leukemia at age 11 or so. His wife, Georgia, died by suicide.\n"
     ]
    }
   ],
   "source": [
    "# View a sample positive review.\n",
    "train_files = os.listdir(os.path.join(train_dir, \"pos\"))\n",
    "sample_fname = train_files[2]\n",
    "print(f\"File : {sample_fname}\\n\")\n",
    "with open(os.path.join(train_dir, f\"pos/{sample_fname}\")) as f:\n",
    "    print(f.read())"
   ]
  },
  {
   "cell_type": "code",
   "execution_count": 9,
   "id": "9d4be48e",
   "metadata": {
    "execution": {
     "iopub.execute_input": "2023-09-01T05:54:12.349692Z",
     "iopub.status.busy": "2023-09-01T05:54:12.348752Z",
     "iopub.status.idle": "2023-09-01T05:54:12.409423Z",
     "shell.execute_reply": "2023-09-01T05:54:12.408335Z"
    },
    "papermill": {
     "duration": 0.079255,
     "end_time": "2023-09-01T05:54:12.411836",
     "exception": false,
     "start_time": "2023-09-01T05:54:12.332581",
     "status": "completed"
    },
    "tags": []
   },
   "outputs": [],
   "source": [
    "tf.keras.utils.text_dataset_from_directory?"
   ]
  },
  {
   "cell_type": "code",
   "execution_count": 10,
   "id": "ef46c95a",
   "metadata": {
    "execution": {
     "iopub.execute_input": "2023-09-01T05:54:12.445497Z",
     "iopub.status.busy": "2023-09-01T05:54:12.444396Z",
     "iopub.status.idle": "2023-09-01T05:54:19.643060Z",
     "shell.execute_reply": "2023-09-01T05:54:19.640330Z"
    },
    "papermill": {
     "duration": 7.218078,
     "end_time": "2023-09-01T05:54:19.645418",
     "exception": false,
     "start_time": "2023-09-01T05:54:12.427340",
     "status": "completed"
    },
    "tags": []
   },
   "outputs": [
    {
     "data": {
      "text/plain": [
       "['imdb.vocab', 'train_unsup', 'README', 'imdbEr.txt', 'train', 'test']"
      ]
     },
     "metadata": {},
     "output_type": "display_data"
    },
    {
     "data": {
      "text/plain": [
       "['neg', 'pos', 'urls_pos.txt', 'urls_neg.txt', 'labeledBow.feat']"
      ]
     },
     "metadata": {},
     "output_type": "display_data"
    },
    {
     "data": {
      "text/plain": [
       "['unsupBow.feat', 'urls_unsup.txt', 'unsup']"
      ]
     },
     "metadata": {},
     "output_type": "display_data"
    }
   ],
   "source": [
    "# Prepare Training Directory as per 'text_dataset_from_directory' Requirements.\n",
    "# -----------------------------------------------------------------------------\n",
    "# Create New Directory for Unsupervised Data\n",
    "train_unsup_dir = os.path.join(dataset_dir, \"train_unsup\")\n",
    "if not os.path.exists(train_unsup_dir):\n",
    "    os.makedirs(train_unsup_dir)\n",
    "else:\n",
    "    pass\n",
    "display(os.listdir(dataset_dir))\n",
    "# Collect Unsupervised Data Files and Directories\n",
    "file_list = [_ for _ in train_dir_items if \"unsup\" in _]\n",
    "# Source & Destination Directories\n",
    "source_dir = train_dir\n",
    "destination_dir = train_unsup_dir\n",
    "# Move Files and Directories\n",
    "for file in file_list:\n",
    "    source_file = os.path.join(source_dir, file)\n",
    "    destination_file = os.path.join(destination_dir, file)\n",
    "    # Move as per Directory/File\n",
    "    if os.path.isdir(source_file):\n",
    "        shutil.copytree(source_file, destination_file)\n",
    "        shutil.rmtree(source_file)\n",
    "    else:\n",
    "        shutil.move(source_file, destination_file)\n",
    "\n",
    "# Review Training & Unsupervised Training Data Directories\n",
    "display(os.listdir(train_dir))\n",
    "display(os.listdir(train_unsup_dir))"
   ]
  },
  {
   "cell_type": "markdown",
   "id": "a31d7f80",
   "metadata": {
    "papermill": {
     "duration": 0.015162,
     "end_time": "2023-09-01T05:54:19.676251",
     "exception": false,
     "start_time": "2023-09-01T05:54:19.661089",
     "status": "completed"
    },
    "tags": []
   },
   "source": [
    "# Training, Validation & Testing Datasets"
   ]
  },
  {
   "cell_type": "code",
   "execution_count": 11,
   "id": "1a1d367f",
   "metadata": {
    "execution": {
     "iopub.execute_input": "2023-09-01T05:54:19.709063Z",
     "iopub.status.busy": "2023-09-01T05:54:19.708651Z",
     "iopub.status.idle": "2023-09-01T05:54:24.902028Z",
     "shell.execute_reply": "2023-09-01T05:54:24.900864Z"
    },
    "papermill": {
     "duration": 5.212742,
     "end_time": "2023-09-01T05:54:24.904697",
     "exception": false,
     "start_time": "2023-09-01T05:54:19.691955",
     "status": "completed"
    },
    "tags": []
   },
   "outputs": [
    {
     "name": "stdout",
     "output_type": "stream",
     "text": [
      "Training Dataset :\n",
      "Found 25000 files belonging to 2 classes.\n",
      "Using 20000 files for training.\n",
      "\n",
      "\n",
      "Validation Dataset :\n",
      "Found 25000 files belonging to 2 classes.\n",
      "Using 5000 files for validation.\n",
      "\n",
      "\n",
      "Testing Dataset :\n",
      "Found 25000 files belonging to 2 classes.\n"
     ]
    }
   ],
   "source": [
    "# Training Dataset\n",
    "print(\"Training Dataset :\")\n",
    "train_ds = tf.keras.utils.text_dataset_from_directory(directory=train_dir, \n",
    "                                                      batch_size=8, \n",
    "                                                      validation_split=0.2, \n",
    "                                                      subset='training', \n",
    "                                                      seed=random_seed)\n",
    "\n",
    "# Validation Dataset\n",
    "print(\"\\n\")\n",
    "print(\"Validation Dataset :\")\n",
    "val_ds = tf.keras.utils.text_dataset_from_directory(directory=train_dir, \n",
    "                                                    batch_size=8, \n",
    "                                                    validation_split=0.2, \n",
    "                                                    subset='validation', \n",
    "                                                    seed=random_seed)\n",
    "\n",
    "# Testing Dataset\n",
    "print(\"\\n\")\n",
    "print(\"Testing Dataset :\")\n",
    "test_ds = tf.keras.utils.text_dataset_from_directory(directory=test_dir, \n",
    "                                                     batch_size=8)"
   ]
  },
  {
   "cell_type": "code",
   "execution_count": 12,
   "id": "5ea42ba5",
   "metadata": {
    "execution": {
     "iopub.execute_input": "2023-09-01T05:54:24.939376Z",
     "iopub.status.busy": "2023-09-01T05:54:24.938378Z",
     "iopub.status.idle": "2023-09-01T05:54:25.108823Z",
     "shell.execute_reply": "2023-09-01T05:54:25.107587Z"
    },
    "papermill": {
     "duration": 0.190478,
     "end_time": "2023-09-01T05:54:25.111674",
     "exception": false,
     "start_time": "2023-09-01T05:54:24.921196",
     "status": "completed"
    },
    "tags": []
   },
   "outputs": [
    {
     "name": "stdout",
     "output_type": "stream",
     "text": [
      "Dataset Element 1 (Labels)  : [8]\n",
      "Dataset Element 1 (Reviews) : [8]\n",
      "\n",
      "LABEL  : 0\n",
      "REVIEW : b\"I wouldn't say this is a *bad* movie. Unfortunately for me, I get the feeling that the more you know about fencing, the worse it gets simply due to the fact that it becomes totally unrealistic. I've been fencing since i was 14 years old, and this movie portrays it very poorly. F. Murray Abraham is good (and appears to have some fencing background), but most of the other actors--especially the students--just seem to be lost.\"\n",
      "--------------------------------------------------------------------------------\n",
      "LABEL  : 1\n",
      "REVIEW : b'Family problems abound in real life and that is what this movie is about. Love can hold the members together through out the ordeals and trials and that is what this movie is about. One man, Daddy, has the maturity and fortitude to sustain the family in the face of adversity. The kids grow up,one all be it, in the hard way, to realize that no matter how old they or a parent is, the parent still loves their children and are willing to provide them a cushion when they fall. ALL the actors portraying their characters did outstanding performances. Yes, I shed a tear along the way knowing I had had similar experiences both as a young adult and later as a parent. This true to life is one which every young adult, and parent, would do well to see, although some will not realize it until they too are parents. A must see for those who care about their families.'\n",
      "--------------------------------------------------------------------------------\n",
      "LABEL  : 1\n",
      "REVIEW : b'In \"Anne of Green Gables\" (1934), Marilla Cuthbert (Helen Westley) and Matthew Cuthbert (O.P. Heggie), middle-aged siblings who live together at Green Gables, a farm in Avonlea, on Prince Edward Island, decide to adopt a boy from distant orphanage to help on their farm. But the orphan sent to them is a precocious girl of 14 named Anne Shirley (Dawn Evelyn Paris-a veteran of Disney\\'s series of \"Alice\" shorts who later would adopt her character\\'s name). <br /><br />Anne was only 11 in Lucy Maude Montgomery\\'s source novel but the same actress could not credibly go from 11 to college age during the course of the story. The movie suffers somewhat from this concession, as many of Anne\\'s reactions and much of what she says are more entertaining coming from an eleven-year-old that from a teenager. As in the book, Anne is bright and quick, eager to please but dissatisfied with her name, her build, her freckles, and her long red hair. Being a child of imagination, however, Anne takes much joy in life, and adapts quickly to her new family and the environment of Prince Edward Island.<br /><br />In fact Anne is the original \"Teenage Drama Queen\" and the film\\'s screenwriter elected to focus on this aspect of her character. Which transformed the basic genre from mildly amusing family drama to comedy. A change that delighted audiences and that continues to frustrate reader purists. <br /><br />Since the comedy is very much in the spirit of the Montgomery\\'s story I can see no reason to take issue with the changes, but let this serve as fair warning to anyone expecting a totally faithful adaptation. The comedy element is the strength of the film as it is one of the earliest self-reflexive parodies of Hollywood conventions. The actress Anne Shirley was one of Hollywood\\'s all- time beauties and the film is in black and white. So much of the amusement is in seeing the title character\\'s endless laments about her appearance and hair color contradicted by what is appearing on the screen. Anne regularly regales her no nonsense rural companions with melodramatic lines like: \"If you refuse it will be a lifelong sorrow to me\". Perhaps the funniest moment is when she corrects the spelling of her name on the classroom blackboard. <br /><br />Tom Brown does a nice job as Anne\\'s love interest Gilbert Blythe and Sara Haden steals all the scenes in which she appears as the Cuthbert\\'s pompous neighbor. <br /><br />Then again, what do I know? I\\'m only a child.'\n",
      "--------------------------------------------------------------------------------\n",
      "LABEL  : 1\n",
      "REVIEW : b'Why did it sound like the husband kept calling her Appy ? It ruined a great episode and so I can only give it a 6. Proper grammar and pronunciation are essential to a film.<br /><br />It was very Hellraiser what with all the skin ripping though I dunno how anyone can survive without skin the skin is a vital organ to the body the biggest organ actually and without we would die. The more a horror film is true the more creepy it can be and more entertaining.<br /><br />I do admit though that the stories from the great horror directors are very disappointing and very mediocre. <br /><br />6/10 come on Yankies get your English up to par !'\n",
      "--------------------------------------------------------------------------------\n",
      "LABEL  : 0\n",
      "REVIEW : b'I have to agree with most everyone\\'s opinion that this show was poorly produced as well as written.The acting was not much more above the lower production values however I feel an actor can only rely on the material provided to them and make the best of it. In keeping with this thought I feel it is important to point out that one actor has risen and persevered well beyond this campy to tasteless production to have become a respectable and quite talented performer.I am referring to Laura Harris a Canadian born actor who has etched her way through many poorly produced shows and movies to find a place on the HBO hit \"Dead Like Me\" where she plays the role of Daisy Adair and to her credit she handles this role in an efficient manner.I remember having a typical boyhood crush on the young actress during this series where she played Ashley a soft spoken yet intelligent 7th grader.I felt as though if anyone might \"make it\" from this series it surely would be Laura Harris and true to her nature she did excel in the acting field to win the respect of many producers who now recognize her for her talent as well as unique Nordic blond allure. If you ever do have the opportunity to view this series I recommend that you have something epic to watch after wards such as the \\'Godfather\\' or perhaps \\'Beaches\\' in order to remind yourself that there is after all a great deal of true production integrity and value out there and that this series is only a low-budget reminder of what Laura Harris can simply state about her time on the show and I bet she would quote many a young actors words of defense by saying \"It\\'s a start!\"'\n",
      "--------------------------------------------------------------------------------\n"
     ]
    }
   ],
   "source": [
    "# Review Dataset\n",
    "for x, y in train_ds.take(1):\n",
    "    print(f\"Dataset Element 1 (Labels)  : {tf.shape(y)}\")\n",
    "    print(f\"Dataset Element 1 (Reviews) : {tf.shape(x)}\\n\")\n",
    "    for i in range(5):\n",
    "        tf.print(f\"LABEL  : {y[i]}\")\n",
    "        tf.print(f\"REVIEW : {x[i]}\")\n",
    "        tf.print(\"-\"*80)"
   ]
  },
  {
   "cell_type": "code",
   "execution_count": 13,
   "id": "cc5da730",
   "metadata": {
    "execution": {
     "iopub.execute_input": "2023-09-01T05:54:25.149399Z",
     "iopub.status.busy": "2023-09-01T05:54:25.148719Z",
     "iopub.status.idle": "2023-09-01T05:54:25.155372Z",
     "shell.execute_reply": "2023-09-01T05:54:25.154290Z"
    },
    "papermill": {
     "duration": 0.028229,
     "end_time": "2023-09-01T05:54:25.157489",
     "exception": false,
     "start_time": "2023-09-01T05:54:25.129260",
     "status": "completed"
    },
    "tags": []
   },
   "outputs": [
    {
     "data": {
      "text/plain": [
       "['neg', 'pos']"
      ]
     },
     "metadata": {},
     "output_type": "display_data"
    }
   ],
   "source": [
    "# Class Names Corresponding to Index (as Numerical Label)\n",
    "display(train_ds.class_names)"
   ]
  },
  {
   "cell_type": "markdown",
   "id": "a925f0d2",
   "metadata": {
    "papermill": {
     "duration": 0.016858,
     "end_time": "2023-09-01T05:54:25.191492",
     "exception": false,
     "start_time": "2023-09-01T05:54:25.174634",
     "status": "completed"
    },
    "tags": []
   },
   "source": [
    "# Data Preparation"
   ]
  },
  {
   "cell_type": "markdown",
   "id": "24746471",
   "metadata": {
    "papermill": {
     "duration": 0.016741,
     "end_time": "2023-09-01T05:54:25.225645",
     "exception": false,
     "start_time": "2023-09-01T05:54:25.208904",
     "status": "completed"
    },
    "tags": []
   },
   "source": [
    "## Custom Standardization Function\n",
    "\n",
    "Removing Punctuations & HTML Elements."
   ]
  },
  {
   "cell_type": "code",
   "execution_count": 14,
   "id": "3b83cdf8",
   "metadata": {
    "execution": {
     "iopub.execute_input": "2023-09-01T05:54:25.262014Z",
     "iopub.status.busy": "2023-09-01T05:54:25.261592Z",
     "iopub.status.idle": "2023-09-01T05:54:25.267752Z",
     "shell.execute_reply": "2023-09-01T05:54:25.266598Z"
    },
    "papermill": {
     "duration": 0.02728,
     "end_time": "2023-09-01T05:54:25.269943",
     "exception": false,
     "start_time": "2023-09-01T05:54:25.242663",
     "status": "completed"
    },
    "tags": []
   },
   "outputs": [],
   "source": [
    "# Function Definition : Remove HTML Tags & Punctuations\n",
    "def custom_standardize(input_data):\n",
    "    \"\"\"Remove HTML Tags & Punctuations\"\"\"\n",
    "    \n",
    "    # Convert to Lowercase\n",
    "    lowercase = tf.strings.lower(input_data)\n",
    "    \n",
    "    # Remove the '<br />' Tag\n",
    "    stripped_html = tf.strings.regex_replace(lowercase, \"<br />\", \" \")\n",
    "    \n",
    "    # Remove Punctuations\n",
    "    stripped_html_punc = tf.strings.regex_replace(stripped_html,\n",
    "        \"[%s]\" % regex.escape(punctuation), \"\"\n",
    "    )\n",
    "    \n",
    "    return stripped_html_punc"
   ]
  },
  {
   "cell_type": "markdown",
   "id": "f7c3237d",
   "metadata": {
    "papermill": {
     "duration": 0.017033,
     "end_time": "2023-09-01T05:54:25.304593",
     "exception": false,
     "start_time": "2023-09-01T05:54:25.287560",
     "status": "completed"
    },
    "tags": []
   },
   "source": [
    "## Tokenization & Vectorization\n",
    "\n",
    "- Custom function for Standardization\n",
    "- Splitting strings into tokens. --> tf.keras.layers.TextVectorization()\n",
    "- Converting tokens into numbers for neural network."
   ]
  },
  {
   "cell_type": "code",
   "execution_count": 15,
   "id": "c6ff2c47",
   "metadata": {
    "execution": {
     "iopub.execute_input": "2023-09-01T05:54:25.341483Z",
     "iopub.status.busy": "2023-09-01T05:54:25.340157Z",
     "iopub.status.idle": "2023-09-01T05:54:25.397108Z",
     "shell.execute_reply": "2023-09-01T05:54:25.395959Z"
    },
    "papermill": {
     "duration": 0.078004,
     "end_time": "2023-09-01T05:54:25.399653",
     "exception": false,
     "start_time": "2023-09-01T05:54:25.321649",
     "status": "completed"
    },
    "tags": []
   },
   "outputs": [
    {
     "name": "stdout",
     "output_type": "stream",
     "text": [
      "Maximum Features(Tokens) in Entire Dataset :  89600\n",
      "Maximum Output Sequence Length of Vectorization Layer :  250\n"
     ]
    }
   ],
   "source": [
    "# Calculate Maximum Features Value\n",
    "# --------------------------------\n",
    "# Collect all Word Tokens provided in Dataset\n",
    "vocab_tokens = list()\n",
    "with open(os.path.join(dataset_dir, \"imdb.vocab\"), \"r\") as f:\n",
    "    for line in f:\n",
    "        vocab_tokens.append(line.strip())\n",
    "vocab_tokens = set(vocab_tokens)       \n",
    "\n",
    "# Calc. Max. Features rounded to next hundred\n",
    "max_features = round(len(vocab_tokens)+100, -2)\n",
    "\n",
    "# Delete Token Object\n",
    "del vocab_tokens\n",
    "\n",
    "# Display Max. Features\n",
    "print(\"Maximum Features(Tokens) in Entire Dataset : \", max_features)\n",
    "\n",
    "# Set Maximum Sequence Length\n",
    "# ---------------------------\n",
    "max_seq_len = 250\n",
    "print(\"Maximum Output Sequence Length of Vectorization Layer : \", max_seq_len)"
   ]
  },
  {
   "cell_type": "code",
   "execution_count": 16,
   "id": "76318ae2",
   "metadata": {
    "execution": {
     "iopub.execute_input": "2023-09-01T05:54:25.436665Z",
     "iopub.status.busy": "2023-09-01T05:54:25.436271Z",
     "iopub.status.idle": "2023-09-01T05:54:25.468430Z",
     "shell.execute_reply": "2023-09-01T05:54:25.467156Z"
    },
    "papermill": {
     "duration": 0.053108,
     "end_time": "2023-09-01T05:54:25.470998",
     "exception": false,
     "start_time": "2023-09-01T05:54:25.417890",
     "status": "completed"
    },
    "tags": []
   },
   "outputs": [
    {
     "data": {
      "text/plain": [
       "<keras.layers.preprocessing.text_vectorization.TextVectorization at 0x7b9dc84b26b0>"
      ]
     },
     "metadata": {},
     "output_type": "display_data"
    }
   ],
   "source": [
    "# Vectorization Layer\n",
    "T_Vect = tf.keras.layers.TextVectorization(standardize=custom_standardize, \n",
    "                                           max_tokens=max_features, \n",
    "                                           output_mode=\"int\", \n",
    "                                           output_sequence_length=max_seq_len)\n",
    "display(T_Vect)"
   ]
  },
  {
   "cell_type": "code",
   "execution_count": 17,
   "id": "590c7567",
   "metadata": {
    "execution": {
     "iopub.execute_input": "2023-09-01T05:54:25.508118Z",
     "iopub.status.busy": "2023-09-01T05:54:25.507681Z",
     "iopub.status.idle": "2023-09-01T05:54:30.826909Z",
     "shell.execute_reply": "2023-09-01T05:54:30.825768Z"
    },
    "papermill": {
     "duration": 5.340697,
     "end_time": "2023-09-01T05:54:30.829315",
     "exception": false,
     "start_time": "2023-09-01T05:54:25.488618",
     "status": "completed"
    },
    "tags": []
   },
   "outputs": [
    {
     "data": {
      "text/plain": [
       "<keras.layers.preprocessing.text_vectorization.TextVectorization at 0x7b9dc84b26b0>"
      ]
     },
     "metadata": {},
     "output_type": "display_data"
    }
   ],
   "source": [
    "# Fit State of Preprocessing Layer to the Dataset\n",
    "training_text = train_ds.map(lambda x, _ : x)\n",
    "T_Vect.adapt(training_text)\n",
    "display(T_Vect)"
   ]
  },
  {
   "cell_type": "code",
   "execution_count": 18,
   "id": "605dcfa9",
   "metadata": {
    "execution": {
     "iopub.execute_input": "2023-09-01T05:54:30.865577Z",
     "iopub.status.busy": "2023-09-01T05:54:30.865152Z",
     "iopub.status.idle": "2023-09-01T05:54:31.527902Z",
     "shell.execute_reply": "2023-09-01T05:54:31.526557Z"
    },
    "papermill": {
     "duration": 0.68366,
     "end_time": "2023-09-01T05:54:31.530360",
     "exception": false,
     "start_time": "2023-09-01T05:54:30.846700",
     "status": "completed"
    },
    "tags": []
   },
   "outputs": [
    {
     "name": "stdout",
     "output_type": "stream",
     "text": [
      "Dataset Element 1 (Labels)  : [8]\n",
      "Dataset Element 1 (Reviews) : [8]\n",
      "\n",
      "LABEL  : 0\n",
      "REVIEW : b\"This film turned up on local TV here in South Africa recently and I thought that I'd warn even those who enjoy watching B grade bad movies (which I do)that this is not even amusing. The plot concerns a couple visiting a house in the country. Some strangers appear and .... The problem is that most of the film, obviously shot in the early seventies, consists of extreme wide shots of people walking, in real time and awfully slowly, from A to B. This makes the film tedious in the extreme and the expected blood and gore payoff just never happens. I am really curious - how many people have actually watched this from beginning to end?\"\n",
      "--------------------------------------------------------------------------------\n",
      "VECTORIZED REVIEW :\n",
      "tf.Tensor(\n",
      "[[   11    19   695    54    20   686   246   128     8  1207  2334   998\n",
      "      3    10   197    12   441  2792    53   143    35   350   146   959\n",
      "   1467    79    93    61    10 86342    11     7    21    53  1130     2\n",
      "    111  3268     4   359  4815     4   314     8     2   691    47  4820\n",
      "    926     3     2   429     7    12    87     5     2    19   526   317\n",
      "      8     2   390  3909  3026     5  1468  2188   652     5    83  1259\n",
      "      8   144    59     3  4861  1310    36     4     6   959    11   160\n",
      "      2    19  2297     8     2  1468     3     2   840   531     3   659\n",
      "   6257    41   109   549    10   236    63  1889    86   105    83    25\n",
      "    156   281    11    36   437     6   126     0     0     0     0     0\n",
      "      0     0     0     0     0     0     0     0     0     0     0     0\n",
      "      0     0     0     0     0     0     0     0     0     0     0     0\n",
      "      0     0     0     0     0     0     0     0     0     0     0     0\n",
      "      0     0     0     0     0     0     0     0     0     0     0     0\n",
      "      0     0     0     0     0     0     0     0     0     0     0     0\n",
      "      0     0     0     0     0     0     0     0     0     0     0     0\n",
      "      0     0     0     0     0     0     0     0     0     0     0     0\n",
      "      0     0     0     0     0     0     0     0     0     0     0     0\n",
      "      0     0     0     0     0     0     0     0     0     0     0     0\n",
      "      0     0     0     0     0     0     0     0     0     0     0     0\n",
      "      0     0     0     0     0     0     0     0     0     0]], shape=(1, 250), dtype=int64)\n",
      "--------------------------------------------------------------------------------\n",
      "First Token :  tf.Tensor(11, shape=(), dtype=int64)\n",
      "Corresponding Vocabulary :  this\n",
      "Vocabulary Size :  89600\n"
     ]
    }
   ],
   "source": [
    "# Review Vectorization Layer's Output\n",
    "for x, y in train_ds.take(1):\n",
    "    print(f\"Dataset Element 1 (Labels)  : {tf.shape(y)}\")\n",
    "    print(f\"Dataset Element 1 (Reviews) : {tf.shape(x)}\\n\")\n",
    "    for i in range(1):\n",
    "        tf.print(f\"LABEL  : {y[i]}\")\n",
    "        tf.print(f\"REVIEW : {x[i]}\")\n",
    "        tf.print(\"-\"*80)\n",
    "        tf.print(f\"VECTORIZED REVIEW :\")\n",
    "        vectorized = T_Vect(tf.expand_dims(x[i], -1))\n",
    "        print(vectorized)\n",
    "        tf.print(\"-\"*80)\n",
    "        print(\"First Token : \", vectorized[0][0])\n",
    "        print(\"Corresponding Vocabulary : \", T_Vect.get_vocabulary()[vectorized[0][0]])\n",
    "        print(\"Vocabulary Size : \", len(T_Vect.get_vocabulary()))"
   ]
  },
  {
   "cell_type": "markdown",
   "id": "e85d9fd3",
   "metadata": {
    "papermill": {
     "duration": 0.017367,
     "end_time": "2023-09-01T05:54:31.565618",
     "exception": false,
     "start_time": "2023-09-01T05:54:31.548251",
     "status": "completed"
    },
    "tags": []
   },
   "source": [
    "# Finalizing Datasets"
   ]
  },
  {
   "cell_type": "code",
   "execution_count": 19,
   "id": "c8cd28ec",
   "metadata": {
    "execution": {
     "iopub.execute_input": "2023-09-01T05:54:31.602985Z",
     "iopub.status.busy": "2023-09-01T05:54:31.602555Z",
     "iopub.status.idle": "2023-09-01T05:54:31.607919Z",
     "shell.execute_reply": "2023-09-01T05:54:31.606773Z"
    },
    "papermill": {
     "duration": 0.026382,
     "end_time": "2023-09-01T05:54:31.609915",
     "exception": false,
     "start_time": "2023-09-01T05:54:31.583533",
     "status": "completed"
    },
    "tags": []
   },
   "outputs": [],
   "source": [
    "# Function to Map Vectorization to Dataset\n",
    "def vectorize(reviews, labels):\n",
    "    return T_Vect(tf.expand_dims(reviews, -1)), labels"
   ]
  },
  {
   "cell_type": "code",
   "execution_count": 20,
   "id": "29fdc854",
   "metadata": {
    "execution": {
     "iopub.execute_input": "2023-09-01T05:54:31.647269Z",
     "iopub.status.busy": "2023-09-01T05:54:31.646882Z",
     "iopub.status.idle": "2023-09-01T05:54:31.845260Z",
     "shell.execute_reply": "2023-09-01T05:54:31.844099Z"
    },
    "papermill": {
     "duration": 0.219853,
     "end_time": "2023-09-01T05:54:31.847751",
     "exception": false,
     "start_time": "2023-09-01T05:54:31.627898",
     "status": "completed"
    },
    "tags": []
   },
   "outputs": [],
   "source": [
    "# Prepare Training, Testing and Validation Datasets\n",
    "train_ds = train_ds.cache().prefetch(buffer_size=tf.data.AUTOTUNE).map(vectorize)\n",
    "test_ds = test_ds.cache().prefetch(buffer_size=tf.data.AUTOTUNE).map(vectorize)\n",
    "val_ds = val_ds.cache().prefetch(buffer_size=tf.data.AUTOTUNE).map(vectorize)"
   ]
  },
  {
   "cell_type": "markdown",
   "id": "8050a15a",
   "metadata": {
    "papermill": {
     "duration": 0.018028,
     "end_time": "2023-09-01T05:54:31.883836",
     "exception": false,
     "start_time": "2023-09-01T05:54:31.865808",
     "status": "completed"
    },
    "tags": []
   },
   "source": [
    "# Model Building"
   ]
  },
  {
   "cell_type": "code",
   "execution_count": 21,
   "id": "70a63c0c",
   "metadata": {
    "execution": {
     "iopub.execute_input": "2023-09-01T05:54:31.921805Z",
     "iopub.status.busy": "2023-09-01T05:54:31.920815Z",
     "iopub.status.idle": "2023-09-01T05:54:32.049418Z",
     "shell.execute_reply": "2023-09-01T05:54:32.047427Z"
    },
    "papermill": {
     "duration": 0.156082,
     "end_time": "2023-09-01T05:54:32.057649",
     "exception": false,
     "start_time": "2023-09-01T05:54:31.901567",
     "status": "completed"
    },
    "tags": []
   },
   "outputs": [
    {
     "name": "stdout",
     "output_type": "stream",
     "text": [
      "Model: \"Sequential_Text_Classification\"\n",
      "_________________________________________________________________\n",
      " Layer (type)                Output Shape              Param #   \n",
      "=================================================================\n",
      " embedding (Embedding)       (None, None, 24)          2150424   \n",
      "                                                                 \n",
      " dropout (Dropout)           (None, None, 24)          0         \n",
      "                                                                 \n",
      " global_average_pooling1d (G  (None, 24)               0         \n",
      " lobalAveragePooling1D)                                          \n",
      "                                                                 \n",
      " dropout_1 (Dropout)         (None, 24)                0         \n",
      "                                                                 \n",
      " dense (Dense)               (None, 1)                 25        \n",
      "                                                                 \n",
      "=================================================================\n",
      "Total params: 2,150,449\n",
      "Trainable params: 2,150,449\n",
      "Non-trainable params: 0\n",
      "_________________________________________________________________\n"
     ]
    }
   ],
   "source": [
    "# Token Embedding Depth\n",
    "embedding_dim = 24\n",
    "\n",
    "# Define Model\n",
    "model = tf.keras.Sequential([\n",
    "    tf.keras.layers.Embedding(max_features + 1, embedding_dim),\n",
    "    tf.keras.layers.Dropout(0.2),\n",
    "    tf.keras.layers.GlobalAveragePooling1D(),\n",
    "    tf.keras.layers.Dropout(0.2),\n",
    "    tf.keras.layers.Dense(1)],\n",
    "    name=\"Sequential_Text_Classification\"\n",
    ")\n",
    "\n",
    "# Compile Model\n",
    "model.compile(loss=tf.keras.losses.BinaryCrossentropy(from_logits=True),\n",
    "              optimizer='adam',\n",
    "              metrics=tf.metrics.BinaryAccuracy(threshold=0.0))\n",
    "\n",
    "model.summary()"
   ]
  },
  {
   "cell_type": "markdown",
   "id": "4e083cd3",
   "metadata": {
    "papermill": {
     "duration": 0.018855,
     "end_time": "2023-09-01T05:54:32.095958",
     "exception": false,
     "start_time": "2023-09-01T05:54:32.077103",
     "status": "completed"
    },
    "tags": []
   },
   "source": [
    "# Training"
   ]
  },
  {
   "cell_type": "code",
   "execution_count": 22,
   "id": "12004e4a",
   "metadata": {
    "execution": {
     "iopub.execute_input": "2023-09-01T05:54:32.139416Z",
     "iopub.status.busy": "2023-09-01T05:54:32.139036Z",
     "iopub.status.idle": "2023-09-01T05:58:59.721559Z",
     "shell.execute_reply": "2023-09-01T05:58:59.720396Z"
    },
    "papermill": {
     "duration": 267.607964,
     "end_time": "2023-09-01T05:58:59.724113",
     "exception": false,
     "start_time": "2023-09-01T05:54:32.116149",
     "status": "completed"
    },
    "tags": []
   },
   "outputs": [
    {
     "name": "stdout",
     "output_type": "stream",
     "text": [
      "Epoch 1/5\n",
      "2500/2500 [==============================] - 47s 18ms/step - loss: 0.5635 - binary_accuracy: 0.7685 - val_loss: 0.4282 - val_binary_accuracy: 0.8364\n",
      "Epoch 2/5\n",
      "2500/2500 [==============================] - 46s 18ms/step - loss: 0.3390 - binary_accuracy: 0.8767 - val_loss: 0.3309 - val_binary_accuracy: 0.8634\n",
      "Epoch 3/5\n",
      "2500/2500 [==============================] - 46s 19ms/step - loss: 0.2500 - binary_accuracy: 0.9104 - val_loss: 0.3016 - val_binary_accuracy: 0.8782\n",
      "Epoch 4/5\n",
      "2500/2500 [==============================] - 47s 19ms/step - loss: 0.1969 - binary_accuracy: 0.9313 - val_loss: 0.2927 - val_binary_accuracy: 0.8802\n",
      "Epoch 5/5\n",
      "2500/2500 [==============================] - 47s 19ms/step - loss: 0.1584 - binary_accuracy: 0.9463 - val_loss: 0.2939 - val_binary_accuracy: 0.8798\n"
     ]
    }
   ],
   "source": [
    "hist = model.fit(train_ds, validation_data=val_ds, epochs=5)"
   ]
  },
  {
   "cell_type": "markdown",
   "id": "e6e82569",
   "metadata": {
    "papermill": {
     "duration": 0.258193,
     "end_time": "2023-09-01T05:59:00.244498",
     "exception": false,
     "start_time": "2023-09-01T05:58:59.986305",
     "status": "completed"
    },
    "tags": []
   },
   "source": [
    "# Evaluation"
   ]
  },
  {
   "cell_type": "code",
   "execution_count": 23,
   "id": "c1c6aa49",
   "metadata": {
    "execution": {
     "iopub.execute_input": "2023-09-01T05:59:00.764597Z",
     "iopub.status.busy": "2023-09-01T05:59:00.764195Z",
     "iopub.status.idle": "2023-09-01T05:59:11.053247Z",
     "shell.execute_reply": "2023-09-01T05:59:11.051940Z"
    },
    "papermill": {
     "duration": 10.550588,
     "end_time": "2023-09-01T05:59:11.055848",
     "exception": false,
     "start_time": "2023-09-01T05:59:00.505260",
     "status": "completed"
    },
    "tags": []
   },
   "outputs": [
    {
     "name": "stdout",
     "output_type": "stream",
     "text": [
      "3125/3125 [==============================] - 5s 2ms/step - loss: 0.3100 - binary_accuracy: 0.8738\n",
      "Loss     : 0.31\n",
      "Accuracy : 87.38 %\n"
     ]
    }
   ],
   "source": [
    "loss, accuracy = model.evaluate(test_ds)\n",
    "print(f\"Loss     : {round(loss, 2)}\")\n",
    "print(f\"Accuracy : {round(accuracy*100, 2)} %\")"
   ]
  },
  {
   "cell_type": "markdown",
   "id": "a7ef5d77",
   "metadata": {
    "papermill": {
     "duration": 0.264918,
     "end_time": "2023-09-01T05:59:11.654380",
     "exception": false,
     "start_time": "2023-09-01T05:59:11.389462",
     "status": "completed"
    },
    "tags": []
   },
   "source": [
    "# Training Metrics"
   ]
  },
  {
   "cell_type": "code",
   "execution_count": 24,
   "id": "65c16190",
   "metadata": {
    "execution": {
     "iopub.execute_input": "2023-09-01T05:59:12.199022Z",
     "iopub.status.busy": "2023-09-01T05:59:12.197798Z",
     "iopub.status.idle": "2023-09-01T05:59:12.206649Z",
     "shell.execute_reply": "2023-09-01T05:59:12.205317Z"
    },
    "papermill": {
     "duration": 0.287498,
     "end_time": "2023-09-01T05:59:12.209740",
     "exception": false,
     "start_time": "2023-09-01T05:59:11.922242",
     "status": "completed"
    },
    "tags": []
   },
   "outputs": [
    {
     "data": {
      "text/plain": [
       "dict_keys(['loss', 'binary_accuracy', 'val_loss', 'val_binary_accuracy'])"
      ]
     },
     "metadata": {},
     "output_type": "display_data"
    }
   ],
   "source": [
    "history_dict = hist.history\n",
    "display(history_dict.keys())"
   ]
  },
  {
   "cell_type": "code",
   "execution_count": 25,
   "id": "1f02da3e",
   "metadata": {
    "execution": {
     "iopub.execute_input": "2023-09-01T05:59:12.829584Z",
     "iopub.status.busy": "2023-09-01T05:59:12.829204Z",
     "iopub.status.idle": "2023-09-01T05:59:13.483511Z",
     "shell.execute_reply": "2023-09-01T05:59:13.482282Z"
    },
    "papermill": {
     "duration": 0.991663,
     "end_time": "2023-09-01T05:59:13.485968",
     "exception": false,
     "start_time": "2023-09-01T05:59:12.494305",
     "status": "completed"
    },
    "tags": []
   },
   "outputs": [
    {
     "data": {
      "image/png": "[encoded data removed]",
      "text/plain": [
       "<Figure size 1200x300 with 1 Axes>"
      ]
     },
     "metadata": {},
     "output_type": "display_data"
    },
    {
     "data": {
      "image/png": "[encoded data removed]",
      "text/plain": [
       "<Figure size 1200x300 with 1 Axes>"
      ]
     },
     "metadata": {},
     "output_type": "display_data"
    }
   ],
   "source": [
    "# Define Visualization Data\n",
    "acc = history_dict['binary_accuracy']\n",
    "val_acc = history_dict['val_binary_accuracy']\n",
    "loss = history_dict['loss']\n",
    "val_loss = history_dict['val_loss']\n",
    "\n",
    "# Define Epochs Range\n",
    "epochs = range(1, len(acc) + 1)\n",
    "\n",
    "# Plot Losses\n",
    "plt.figure(figsize=(12,3))\n",
    "plt.plot(epochs, loss, 'rx', label='Training Loss')\n",
    "plt.plot(epochs, val_loss, 'r', label='Validation Loss')\n",
    "plt.title('Training and Validation Loss')\n",
    "plt.xlabel('Epochs')\n",
    "plt.ylabel('Loss')\n",
    "plt.legend()\n",
    "plt.show()\n",
    "\n",
    "# Plot Accuracies\n",
    "plt.figure(figsize=(12,3))\n",
    "plt.plot(epochs, acc, 'gx', label='Training Accuracy')\n",
    "plt.plot(epochs, val_acc, 'g', label='Validation Accuracy')\n",
    "plt.title('Training and Validation Accuracy')\n",
    "plt.xlabel('Epochs')\n",
    "plt.ylabel('Accuracy')\n",
    "plt.legend(loc='lower right')\n",
    "plt.show()"
   ]
  },
  {
   "cell_type": "markdown",
   "id": "0bddc856",
   "metadata": {
    "papermill": {
     "duration": 0.268671,
     "end_time": "2023-09-01T05:59:14.020166",
     "exception": false,
     "start_time": "2023-09-01T05:59:13.751495",
     "status": "completed"
    },
    "tags": []
   },
   "source": [
    "# Exporting Model"
   ]
  },
  {
   "cell_type": "code",
   "execution_count": 26,
   "id": "3e81d687",
   "metadata": {
    "execution": {
     "iopub.execute_input": "2023-09-01T05:59:14.558690Z",
     "iopub.status.busy": "2023-09-01T05:59:14.557617Z",
     "iopub.status.idle": "2023-09-01T05:59:24.282799Z",
     "shell.execute_reply": "2023-09-01T05:59:24.281506Z"
    },
    "papermill": {
     "duration": 9.99657,
     "end_time": "2023-09-01T05:59:24.285471",
     "exception": false,
     "start_time": "2023-09-01T05:59:14.288901",
     "status": "completed"
    },
    "tags": []
   },
   "outputs": [
    {
     "name": "stdout",
     "output_type": "stream",
     "text": [
      "Found 25000 files belonging to 2 classes.\n",
      "3125/3125 [==============================] - 8s 3ms/step - loss: 0.3100 - accuracy: 0.8738\n",
      "Loss     : 0.31\n",
      "Accuracy : 87.38 %\n"
     ]
    }
   ],
   "source": [
    "# Define Model for Exporting\n",
    "export_model = tf.keras.Sequential([\n",
    "    T_Vect,\n",
    "    model,\n",
    "    tf.keras.layers.Activation(\"sigmoid\")\n",
    "])\n",
    "\n",
    "# Compile Model\n",
    "export_model.compile(loss=tf.keras.losses.BinaryCrossentropy(from_logits=False), \n",
    "                     optimizer=\"adam\", \n",
    "                     metrics=['accuracy'])\n",
    "\n",
    "# Original Raw Test Data\n",
    "test_raw = tf.keras.utils.text_dataset_from_directory(directory=test_dir, \n",
    "                                                      batch_size=8)\n",
    "# Test Accuracy on Test Data\n",
    "loss, accuracy = export_model.evaluate(test_raw)\n",
    "print(f\"Loss     : {round(loss, 2)}\")\n",
    "print(f\"Accuracy : {round(accuracy*100, 2)} %\")"
   ]
  },
  {
   "cell_type": "code",
   "execution_count": 27,
   "id": "694efbfd",
   "metadata": {
    "execution": {
     "iopub.execute_input": "2023-09-01T05:59:24.843431Z",
     "iopub.status.busy": "2023-09-01T05:59:24.843013Z",
     "iopub.status.idle": "2023-09-01T05:59:27.689578Z",
     "shell.execute_reply": "2023-09-01T05:59:27.688380Z"
    },
    "papermill": {
     "duration": 3.127511,
     "end_time": "2023-09-01T05:59:27.692566",
     "exception": false,
     "start_time": "2023-09-01T05:59:24.565055",
     "status": "completed"
    },
    "tags": []
   },
   "outputs": [],
   "source": [
    "# Export Model to Directory\n",
    "tf.keras.saving.save_model(model=export_model, \n",
    "                           filepath=\"saved_models\", \n",
    "                           overwrite=True, \n",
    "                           save_format=\"tf\")"
   ]
  },
  {
   "cell_type": "markdown",
   "id": "517c645f",
   "metadata": {
    "papermill": {
     "duration": 0.27721,
     "end_time": "2023-09-01T05:59:28.311075",
     "exception": false,
     "start_time": "2023-09-01T05:59:28.033865",
     "status": "completed"
    },
    "tags": []
   },
   "source": [
    "# Inference of Exported Model on Fresh Data"
   ]
  },
  {
   "cell_type": "code",
   "execution_count": 28,
   "id": "618ccf45",
   "metadata": {
    "execution": {
     "iopub.execute_input": "2023-09-01T05:59:28.875912Z",
     "iopub.status.busy": "2023-09-01T05:59:28.875492Z",
     "iopub.status.idle": "2023-09-01T05:59:29.129794Z",
     "shell.execute_reply": "2023-09-01T05:59:29.128319Z"
    },
    "papermill": {
     "duration": 0.538886,
     "end_time": "2023-09-01T05:59:29.131953",
     "exception": false,
     "start_time": "2023-09-01T05:59:28.593067",
     "status": "completed"
    },
    "tags": []
   },
   "outputs": [
    {
     "name": "stdout",
     "output_type": "stream",
     "text": [
      "1/1 [==============================] - 0s 167ms/step\n",
      "------------------------------------\n",
      "Raw Predictions:\n",
      "------------------------------------\n"
     ]
    },
    {
     "data": {
      "text/plain": [
       "array([[0.70621717],\n",
       "       [0.5005356 ],\n",
       "       [0.36248305],\n",
       "       [0.657733  ],\n",
       "       [0.59446037]], dtype=float32)"
      ]
     },
     "metadata": {},
     "output_type": "display_data"
    },
    {
     "name": "stdout",
     "output_type": "stream",
     "text": [
      "------------------------------------\n",
      "Predictions as Labels:\n",
      "------------------------------------\n"
     ]
    },
    {
     "data": {
      "text/plain": [
       "array([[1],\n",
       "       [1],\n",
       "       [0],\n",
       "       [1],\n",
       "       [1]])"
      ]
     },
     "metadata": {},
     "output_type": "display_data"
    }
   ],
   "source": [
    "# Example Fresh Data\n",
    "examples = [\n",
    "    \"The movie was great!\",\n",
    "    \"The movie was okay.\",\n",
    "    \"The movie was terrible...\",\n",
    "    \"I thought the movie was enlightening, but my friend thought it as misleading.\",\n",
    "    \"I thought the movie was misleading, but my friend thought it as okay.\"\n",
    "]\n",
    "\n",
    "# Raw Predictions\n",
    "preds = export_model.predict(examples)\n",
    "print(\"-\"*36)\n",
    "print(\"Raw Predictions:\")\n",
    "print(\"-\"*36)\n",
    "display(preds)\n",
    "\n",
    "# Predictions as Labels\n",
    "print(\"-\"*36)\n",
    "print(\"Predictions as Labels:\")\n",
    "print(\"-\"*36)\n",
    "pred_labels = np.where(preds > 0.5, 1, 0)\n",
    "display(pred_labels)"
   ]
  }
 ],
 "kernelspec": {
  "display_name": "Python 3",
  "language": "python",
  "name": "python3"
 },
 "language_info": {
  "codemirror_mode": {
   "name": "ipython",
   "version": 3
  },
  "file_extension": ".py",
  "mimetype": "text/x-python",
  "name": "python",
  "nbconvert_exporter": "python",
  "pygments_lexer": "ipython3",
  "version": "3.6.4"
 },
 "metadata": {
  "kernelspec": {
   "display_name": "Python 3",
   "language": "python",
   "name": "python3"
  },
  "language_info": {
   "codemirror_mode": {
    "name": "ipython",
    "version": 3
   },
   "file_extension": ".py",
   "mimetype": "text/x-python",
   "name": "python",
   "nbconvert_exporter": "python",
   "pygments_lexer": "ipython3",
   "version": "3.10.12"
  },
  "papermill": {
   "default_parameters": {},
   "duration": 378.974727,
   "end_time": "2023-09-01T05:59:32.415423",
   "environment_variables": {},
   "exception": null,
   "input_path": "__notebook__.ipynb",
   "output_path": "__notebook__.ipynb",
   "parameters": {},
   "start_time": "2023-09-01T05:53:13.440696",
   "version": "2.4.0"
  }
 },
 "nbformat": 4,
 "nbformat_minor": 5
}
