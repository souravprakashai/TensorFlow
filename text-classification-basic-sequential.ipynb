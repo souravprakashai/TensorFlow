{
 "cells": [
  {
   "cell_type": "markdown",
   "id": "bb77a576",
   "metadata": {
    "papermill": {
     "duration": 0.00627,
     "end_time": "2023-08-31T09:44:14.153637",
     "exception": false,
     "start_time": "2023-08-31T09:44:14.147367",
     "status": "completed"
    },
    "tags": []
   },
   "source": [
    "# Binary Sentiment Analysis on IMDB Reviews Dataset"
   ]
  },
  {
   "cell_type": "markdown",
   "id": "ae05bb8d",
   "metadata": {
    "papermill": {
     "duration": 0.005262,
     "end_time": "2023-08-31T09:44:14.165792",
     "exception": false,
     "start_time": "2023-08-31T09:44:14.160530",
     "status": "completed"
    },
    "tags": []
   },
   "source": [
    "# Libraries & Modules"
   ]
  },
  {
   "cell_type": "code",
   "execution_count": 1,
   "id": "1fa9dd93",
   "metadata": {
    "execution": {
     "iopub.execute_input": "2023-08-31T09:44:14.178443Z",
     "iopub.status.busy": "2023-08-31T09:44:14.178010Z",
     "iopub.status.idle": "2023-08-31T09:44:23.659660Z",
     "shell.execute_reply": "2023-08-31T09:44:23.658198Z"
    },
    "papermill": {
     "duration": 9.4912,
     "end_time": "2023-08-31T09:44:23.662285",
     "exception": false,
     "start_time": "2023-08-31T09:44:14.171085",
     "status": "completed"
    },
    "tags": []
   },
   "outputs": [
    {
     "name": "stdout",
     "output_type": "stream",
     "text": [
      "Python Env :  3.10.12 | packaged by conda-forge | (main, Jun 23 2023, 22:40:32) [GCC 12.3.0]\n",
      "TensorFlow :  2.12.0\n"
     ]
    }
   ],
   "source": [
    "# Manage Warnings\n",
    "import warnings\n",
    "warnings.filterwarnings(\"ignore\")\n",
    "\n",
    "# Modules\n",
    "import os\n",
    "import sys\n",
    "import shutil\n",
    "import string\n",
    "import re as regex\n",
    "import matplotlib.pyplot as plt\n",
    "\n",
    "# TensorFlow Log Level\n",
    "os.environ['TF_CPP_MIN_LOG_LEVEL'] = '2'\n",
    "\n",
    "# TensorFlow Libraries\n",
    "import tensorflow as tf\n",
    "\n",
    "# Environment/Versions\n",
    "print(\"Python Env : \", sys.version)\n",
    "print(\"TensorFlow : \", tf.__version__)"
   ]
  },
  {
   "cell_type": "markdown",
   "id": "a5daa26e",
   "metadata": {
    "papermill": {
     "duration": 0.005055,
     "end_time": "2023-08-31T09:44:23.672788",
     "exception": false,
     "start_time": "2023-08-31T09:44:23.667733",
     "status": "completed"
    },
    "tags": []
   },
   "source": [
    "# Dataset"
   ]
  },
  {
   "cell_type": "markdown",
   "id": "a418883e",
   "metadata": {
    "papermill": {
     "duration": 0.004989,
     "end_time": "2023-08-31T09:44:23.683279",
     "exception": false,
     "start_time": "2023-08-31T09:44:23.678290",
     "status": "completed"
    },
    "tags": []
   },
   "source": [
    "## Downloading & Exploring"
   ]
  },
  {
   "cell_type": "code",
   "execution_count": 2,
   "id": "289b9590",
   "metadata": {
    "execution": {
     "iopub.execute_input": "2023-08-31T09:44:23.696413Z",
     "iopub.status.busy": "2023-08-31T09:44:23.695611Z",
     "iopub.status.idle": "2023-08-31T09:45:02.125722Z",
     "shell.execute_reply": "2023-08-31T09:45:02.124505Z"
    },
    "papermill": {
     "duration": 38.439859,
     "end_time": "2023-08-31T09:45:02.128359",
     "exception": false,
     "start_time": "2023-08-31T09:44:23.688500",
     "status": "completed"
    },
    "tags": []
   },
   "outputs": [
    {
     "name": "stdout",
     "output_type": "stream",
     "text": [
      "Downloading data from https://ai.stanford.edu/~amaas/data/sentiment/aclImdb_v1.tar.gz\n",
      "84125825/84125825 [==============================] - 9s 0us/step\n"
     ]
    }
   ],
   "source": [
    "# Dataset Download Path\n",
    "url = \"https://ai.stanford.edu/~amaas/data/sentiment/aclImdb_v1.tar.gz\"\n",
    "\n",
    "# Retrieve File (and untar)\n",
    "dataset = tf.keras.utils.get_file(fname=\"aclImdb_v1\", \n",
    "                                  origin=url, \n",
    "                                  untar=True, \n",
    "                                  cache_dir=\".\", \n",
    "                                  cache_subdir=\"\")\n",
    "\n",
    "# Dataset Directory\n",
    "dataset_dir = os.path.join(os.path.dirname(dataset), \"aclImdb\")"
   ]
  },
  {
   "cell_type": "code",
   "execution_count": 3,
   "id": "e0aeed8a",
   "metadata": {
    "execution": {
     "iopub.execute_input": "2023-08-31T09:45:02.152188Z",
     "iopub.status.busy": "2023-08-31T09:45:02.151593Z",
     "iopub.status.idle": "2023-08-31T09:45:02.162327Z",
     "shell.execute_reply": "2023-08-31T09:45:02.160292Z"
    },
    "papermill": {
     "duration": 0.027696,
     "end_time": "2023-08-31T09:45:02.167324",
     "exception": false,
     "start_time": "2023-08-31T09:45:02.139628",
     "status": "completed"
    },
    "tags": []
   },
   "outputs": [
    {
     "data": {
      "text/plain": [
       "['train', 'test', 'README', 'imdbEr.txt', 'imdb.vocab']"
      ]
     },
     "metadata": {},
     "output_type": "display_data"
    }
   ],
   "source": [
    "# List Dataset Sub-Directories & Files\n",
    "display(os.listdir(dataset_dir))"
   ]
  },
  {
   "cell_type": "code",
   "execution_count": 4,
   "id": "760e9860",
   "metadata": {
    "execution": {
     "iopub.execute_input": "2023-08-31T09:45:02.190085Z",
     "iopub.status.busy": "2023-08-31T09:45:02.189005Z",
     "iopub.status.idle": "2023-08-31T09:45:02.195740Z",
     "shell.execute_reply": "2023-08-31T09:45:02.194640Z"
    },
    "papermill": {
     "duration": 0.021522,
     "end_time": "2023-08-31T09:45:02.199318",
     "exception": false,
     "start_time": "2023-08-31T09:45:02.177796",
     "status": "completed"
    },
    "tags": []
   },
   "outputs": [
    {
     "name": "stdout",
     "output_type": "stream",
     "text": [
      "Large Movie Review Dataset v1.0\n",
      "\n",
      "Overview\n",
      "\n",
      "This dataset contains movie reviews along with their associated binary\n",
      "sentiment polarity labels. It is intended to serve as a benchmark for\n",
      "sentiment classification. This document outlines how the dataset was\n",
      "gathered, and how to use the files provided. \n",
      "\n",
      "Dataset \n",
      "\n",
      "The core dataset contains 50,000 reviews split evenly into 25k train\n",
      "and 25k test sets. The overall distribution of labels is balanced (25k\n",
      "pos and 25k neg). We also include an additional 50,000 unlabeled\n",
      "documents for unsupervised learning. \n",
      "\n",
      "In the entire collection, no more than 30 reviews are allowed for any\n",
      "given movie because reviews for the same movie tend to have correlated\n",
      "ratings. Further, the train and test sets contain a disjoint set of\n",
      "movies, so no significant performance is obtained by memorizing\n",
      "movie-unique terms and their associated with observed labels.  In the\n",
      "labeled train/test sets, a negative review has a score <= 4 out of 10,\n",
      "and a positive review has a score >= 7 out of 10. Thus reviews with\n",
      "more neutral ratings are not included in the train/test sets. In the\n",
      "unsupervised set, reviews of any rating are included and there are an\n",
      "even number of reviews > 5 and <= 5.\n",
      "\n",
      "Files\n",
      "\n",
      "There are two top-level directories [train/, test/] corresponding to\n",
      "the training and test sets. Each contains [pos/, neg/] directories for\n",
      "the reviews with binary labels positive and negative. Within these\n",
      "directories, reviews are stored in text files named following the\n",
      "convention [[id]_[rating].txt] where [id] is a unique id and [rating] is\n",
      "the star rating for that review on a 1-10 scale. For example, the file\n",
      "[test/pos/200_8.txt] is the text for a positive-labeled test set\n",
      "example with unique id 200 and star rating 8/10 from IMDb. The\n",
      "[train/unsup/] directory has 0 for all ratings because the ratings are\n",
      "omitted for this portion of the dataset.\n",
      "\n",
      "We also include the IMDb URLs for each review in a separate\n",
      "[urls_[pos, neg, unsup].txt] file. A review with unique id 200 will\n",
      "have its URL on line 200 of this file. Due the ever-changing IMDb, we\n",
      "are unable to link directly to the review, but only to the movie's\n",
      "review page.\n",
      "\n",
      "In addition to the review text files, we include already-tokenized bag\n",
      "of words (BoW) features that were used in our experiments. These \n",
      "are stored in .feat files in the train/test directories. Each .feat\n",
      "file is in LIBSVM format, an ascii sparse-vector format for labeled\n",
      "data.  The feature indices in these files start from 0, and the text\n",
      "tokens corresponding to a feature index is found in [imdb.vocab]. So a\n",
      "line with 0:7 in a .feat file means the first word in [imdb.vocab]\n",
      "(the) appears 7 times in that review.\n",
      "\n",
      "LIBSVM page for details on .feat file format:\n",
      "http://www.csie.ntu.edu.tw/~cjlin/libsvm/\n",
      "\n",
      "We also include [imdbEr.txt] which contains the expected rating for\n",
      "each token in [imdb.vocab] as computed by (Potts, 2011). The expected\n",
      "rating is a good way to get a sense for the average polarity of a word\n",
      "in the dataset.\n",
      "\n",
      "Citing the dataset\n",
      "\n",
      "When using this dataset please cite our ACL 2011 paper which\n",
      "introduces it. This paper also contains classification results which\n",
      "you may want to compare against.\n",
      "\n",
      "\n",
      "@InProceedings{maas-EtAl:2011:ACL-HLT2011,\n",
      "  author    = {Maas, Andrew L.  and  Daly, Raymond E.  and  Pham, Peter T.  and  Huang, Dan  and  Ng, Andrew Y.  and  Potts, Christopher},\n",
      "  title     = {Learning Word Vectors for Sentiment Analysis},\n",
      "  booktitle = {Proceedings of the 49th Annual Meeting of the Association for Computational Linguistics: Human Language Technologies},\n",
      "  month     = {June},\n",
      "  year      = {2011},\n",
      "  address   = {Portland, Oregon, USA},\n",
      "  publisher = {Association for Computational Linguistics},\n",
      "  pages     = {142--150},\n",
      "  url       = {http://www.aclweb.org/anthology/P11-1015}\n",
      "}\n",
      "\n",
      "References\n",
      "\n",
      "Potts, Christopher. 2011. On the negativity of negation. In Nan Li and\n",
      "David Lutz, eds., Proceedings of Semantics and Linguistic Theory 20,\n",
      "636-659.\n",
      "\n",
      "Contact\n",
      "\n",
      "For questions/comments/corrections please contact Andrew Maas\n",
      "amaas@cs.stanford.edu\n",
      "\n"
     ]
    }
   ],
   "source": [
    "# Review Readme File\n",
    "with open(os.path.join(dataset_dir, 'README'), 'r') as f:\n",
    "    print(f.read())"
   ]
  },
  {
   "cell_type": "code",
   "execution_count": 5,
   "id": "a182f4e1",
   "metadata": {
    "execution": {
     "iopub.execute_input": "2023-08-31T09:45:02.226225Z",
     "iopub.status.busy": "2023-08-31T09:45:02.225558Z",
     "iopub.status.idle": "2023-08-31T09:45:02.235715Z",
     "shell.execute_reply": "2023-08-31T09:45:02.234415Z"
    },
    "papermill": {
     "duration": 0.026658,
     "end_time": "2023-08-31T09:45:02.238398",
     "exception": false,
     "start_time": "2023-08-31T09:45:02.211740",
     "status": "completed"
    },
    "tags": []
   },
   "outputs": [
    {
     "data": {
      "text/plain": [
       "['labeledBow.feat',\n",
       " 'neg',\n",
       " 'pos',\n",
       " 'urls_unsup.txt',\n",
       " 'unsup',\n",
       " 'urls_neg.txt',\n",
       " 'unsupBow.feat',\n",
       " 'urls_pos.txt']"
      ]
     },
     "metadata": {},
     "output_type": "display_data"
    },
    {
     "data": {
      "text/plain": [
       "['labeledBow.feat', 'neg', 'pos', 'urls_neg.txt', 'urls_pos.txt']"
      ]
     },
     "metadata": {},
     "output_type": "display_data"
    }
   ],
   "source": [
    "# Train & Test Directories\n",
    "display(os.listdir(f\"{dataset_dir}/train\"))\n",
    "display(os.listdir(f\"{dataset_dir}/test\"))"
   ]
  },
  {
   "cell_type": "code",
   "execution_count": 6,
   "id": "39fe807e",
   "metadata": {
    "execution": {
     "iopub.execute_input": "2023-08-31T09:45:02.261900Z",
     "iopub.status.busy": "2023-08-31T09:45:02.261498Z",
     "iopub.status.idle": "2023-08-31T09:45:02.269817Z",
     "shell.execute_reply": "2023-08-31T09:45:02.268583Z"
    },
    "papermill": {
     "duration": 0.02266,
     "end_time": "2023-08-31T09:45:02.272420",
     "exception": false,
     "start_time": "2023-08-31T09:45:02.249760",
     "status": "completed"
    },
    "tags": []
   },
   "outputs": [
    {
     "data": {
      "text/plain": [
       "['labeledBow.feat',\n",
       " 'neg',\n",
       " 'pos',\n",
       " 'urls_unsup.txt',\n",
       " 'unsup',\n",
       " 'urls_neg.txt',\n",
       " 'unsupBow.feat',\n",
       " 'urls_pos.txt']"
      ]
     },
     "execution_count": 6,
     "metadata": {},
     "output_type": "execute_result"
    }
   ],
   "source": [
    "# Training Data Directory\n",
    "train_dir = os.path.join(dataset_dir, \"train\")\n",
    "train_dir_items = os.listdir(train_dir)\n",
    "train_dir_items"
   ]
  },
  {
   "cell_type": "code",
   "execution_count": 7,
   "id": "cb00a6b7",
   "metadata": {
    "execution": {
     "iopub.execute_input": "2023-08-31T09:45:02.295901Z",
     "iopub.status.busy": "2023-08-31T09:45:02.294840Z",
     "iopub.status.idle": "2023-08-31T09:45:02.301679Z",
     "shell.execute_reply": "2023-08-31T09:45:02.300645Z"
    },
    "papermill": {
     "duration": 0.020771,
     "end_time": "2023-08-31T09:45:02.303916",
     "exception": false,
     "start_time": "2023-08-31T09:45:02.283145",
     "status": "completed"
    },
    "tags": []
   },
   "outputs": [
    {
     "data": {
      "text/plain": [
       "['labeledBow.feat', 'neg', 'pos', 'urls_neg.txt', 'urls_pos.txt']"
      ]
     },
     "execution_count": 7,
     "metadata": {},
     "output_type": "execute_result"
    }
   ],
   "source": [
    "# Testing Data Directory\n",
    "test_dir = os.path.join(dataset_dir, \"test\")\n",
    "os.listdir(test_dir)"
   ]
  },
  {
   "cell_type": "code",
   "execution_count": 8,
   "id": "71e66db4",
   "metadata": {
    "execution": {
     "iopub.execute_input": "2023-08-31T09:45:02.328806Z",
     "iopub.status.busy": "2023-08-31T09:45:02.327946Z",
     "iopub.status.idle": "2023-08-31T09:45:02.343221Z",
     "shell.execute_reply": "2023-08-31T09:45:02.341495Z"
    },
    "papermill": {
     "duration": 0.032262,
     "end_time": "2023-08-31T09:45:02.346604",
     "exception": false,
     "start_time": "2023-08-31T09:45:02.314342",
     "status": "completed"
    },
    "tags": []
   },
   "outputs": [
    {
     "name": "stdout",
     "output_type": "stream",
     "text": [
      "File : 1751_8.txt\n",
      "\n",
      "The 40 Year Old Virgin, is about Andy Stitzer, a forty year old man who works in an electronic store and doesn't have much of a social life and is very awkward around women. Some of his co-workers at the store invite him out one night and they discover that Andy, is still a virgin so they plan to help him lose his virginity. One day in the store Andy, meets a woman named Trish, who gives him her phone number and eventually Andy, works up enough courage to go on a date with her and they start to really like each other but Andy, is still very awkward when it comes to sex and he is going to have to tell this to Trish, much to his embarrassment if he can actually get up enough courage to tell her before things get awkward. The 40 Year Old Virgin, has good direction, a good script, good comedic performances by the whole cast, good cinematography and good film editing. The film stars and is co-written by Steve Carell, who does a very good comedic breakthrough performance and his writing for the film is very good too. I was very pleasantly surprised with this film. It is sweet, funny, entertaining, fun, enjoyable, clever, good natured and a good time. This film is just as good as this year's Wedding Crashers, and both films are two of the best comedies I have seen in awhile. The 40 Year Old Virgin, really showcases a lot of talent and it is put to good use and it works as a comedy and a romance and it is sweet and a lot of fun. One of the biggest surprises and one of the best comedies of the year.\n"
     ]
    }
   ],
   "source": [
    "# View a sample positive review.\n",
    "train_files = os.listdir(os.path.join(train_dir, \"pos\"))\n",
    "sample_fname = train_files[2]\n",
    "print(f\"File : {sample_fname}\\n\")\n",
    "with open(os.path.join(train_dir, f\"pos/{sample_fname}\")) as f:\n",
    "    print(f.read())"
   ]
  },
  {
   "cell_type": "code",
   "execution_count": 9,
   "id": "50109fa2",
   "metadata": {
    "execution": {
     "iopub.execute_input": "2023-08-31T09:45:02.372272Z",
     "iopub.status.busy": "2023-08-31T09:45:02.371591Z",
     "iopub.status.idle": "2023-08-31T09:45:02.435144Z",
     "shell.execute_reply": "2023-08-31T09:45:02.434120Z"
    },
    "papermill": {
     "duration": 0.078524,
     "end_time": "2023-08-31T09:45:02.437797",
     "exception": false,
     "start_time": "2023-08-31T09:45:02.359273",
     "status": "completed"
    },
    "tags": []
   },
   "outputs": [],
   "source": [
    "tf.keras.utils.text_dataset_from_directory?"
   ]
  },
  {
   "cell_type": "code",
   "execution_count": 10,
   "id": "1a304927",
   "metadata": {
    "execution": {
     "iopub.execute_input": "2023-08-31T09:45:02.462840Z",
     "iopub.status.busy": "2023-08-31T09:45:02.461839Z",
     "iopub.status.idle": "2023-08-31T09:45:09.096442Z",
     "shell.execute_reply": "2023-08-31T09:45:09.094769Z"
    },
    "papermill": {
     "duration": 6.650347,
     "end_time": "2023-08-31T09:45:09.099200",
     "exception": false,
     "start_time": "2023-08-31T09:45:02.448853",
     "status": "completed"
    },
    "tags": []
   },
   "outputs": [
    {
     "data": {
      "text/plain": [
       "['train', 'test', 'README', 'imdbEr.txt', 'train_unsup', 'imdb.vocab']"
      ]
     },
     "metadata": {},
     "output_type": "display_data"
    },
    {
     "data": {
      "text/plain": [
       "['labeledBow.feat', 'neg', 'pos', 'urls_neg.txt', 'urls_pos.txt']"
      ]
     },
     "metadata": {},
     "output_type": "display_data"
    },
    {
     "data": {
      "text/plain": [
       "['urls_unsup.txt', 'unsup', 'unsupBow.feat']"
      ]
     },
     "metadata": {},
     "output_type": "display_data"
    }
   ],
   "source": [
    "# Prepare Training Directory as per 'text_dataset_from_directory' Requirements.\n",
    "# -----------------------------------------------------------------------------\n",
    "# Create New Directory for Unsupervised Data\n",
    "train_unsup_dir = os.path.join(dataset_dir, \"train_unsup\")\n",
    "if not os.path.exists(train_unsup_dir):\n",
    "    os.makedirs(train_unsup_dir)\n",
    "else:\n",
    "    pass\n",
    "display(os.listdir(dataset_dir))\n",
    "# Collect Unsupervised Data Files and Directories\n",
    "file_list = [_ for _ in train_dir_items if \"unsup\" in _]\n",
    "# Source & Destination Directories\n",
    "source_dir = train_dir\n",
    "destination_dir = train_unsup_dir\n",
    "# Move Files and Directories\n",
    "for file in file_list:\n",
    "    source_file = os.path.join(source_dir, file)\n",
    "    destination_file = os.path.join(destination_dir, file)\n",
    "    # Move as per Directory/File\n",
    "    if os.path.isdir(source_file):\n",
    "        shutil.copytree(source_file, destination_file)\n",
    "        shutil.rmtree(source_file)\n",
    "    else:\n",
    "        shutil.move(source_file, destination_file)\n",
    "\n",
    "# Review Training & Unsupervised Training Data Directories\n",
    "display(os.listdir(train_dir))\n",
    "display(os.listdir(train_unsup_dir))"
   ]
  },
  {
   "cell_type": "code",
   "execution_count": null,
   "id": "b3a59c82",
   "metadata": {
    "papermill": {
     "duration": 0.011129,
     "end_time": "2023-08-31T09:45:09.121566",
     "exception": false,
     "start_time": "2023-08-31T09:45:09.110437",
     "status": "completed"
    },
    "tags": []
   },
   "outputs": [],
   "source": []
  }
 ],
 "kernelspec": {
  "display_name": "Python 3",
  "language": "python",
  "name": "python3"
 },
 "language_info": {
  "codemirror_mode": {
   "name": "ipython",
   "version": 3
  },
  "file_extension": ".py",
  "mimetype": "text/x-python",
  "name": "python",
  "nbconvert_exporter": "python",
  "pygments_lexer": "ipython3",
  "version": "3.6.4"
 },
 "metadata": {
  "kernelspec": {
   "display_name": "Python 3",
   "language": "python",
   "name": "python3"
  },
  "language_info": {
   "codemirror_mode": {
    "name": "ipython",
    "version": 3
   },
   "file_extension": ".py",
   "mimetype": "text/x-python",
   "name": "python",
   "nbconvert_exporter": "python",
   "pygments_lexer": "ipython3",
   "version": "3.10.12"
  },
  "papermill": {
   "default_parameters": {},
   "duration": 68.646946,
   "end_time": "2023-08-31T09:45:11.780334",
   "environment_variables": {},
   "exception": null,
   "input_path": "__notebook__.ipynb",
   "output_path": "__notebook__.ipynb",
   "parameters": {},
   "start_time": "2023-08-31T09:44:03.133388",
   "version": "2.4.0"
  }
 },
 "nbformat": 4,
 "nbformat_minor": 5
}
