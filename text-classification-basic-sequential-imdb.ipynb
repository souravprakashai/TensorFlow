{
 "cells": [
  {
   "cell_type": "markdown",
   "id": "b0071c5b",
   "metadata": {
    "papermill": {
     "duration": 0.014536,
     "end_time": "2023-09-02T06:08:26.080562",
     "exception": false,
     "start_time": "2023-09-02T06:08:26.066026",
     "status": "completed"
    },
    "tags": []
   },
   "source": [
    "# Binary Sentiment Analysis on IMDB Reviews Dataset\n",
    "\n",
    "# Libraries & Modules"
   ]
  },
  {
   "cell_type": "code",
   "execution_count": 1,
   "id": "fd070930",
   "metadata": {
    "execution": {
     "iopub.execute_input": "2023-09-02T06:08:26.113435Z",
     "iopub.status.busy": "2023-09-02T06:08:26.111789Z",
     "iopub.status.idle": "2023-09-02T06:08:35.818099Z",
     "shell.execute_reply": "2023-09-02T06:08:35.816815Z"
    },
    "papermill": {
     "duration": 9.72593,
     "end_time": "2023-09-02T06:08:35.821000",
     "exception": false,
     "start_time": "2023-09-02T06:08:26.095070",
     "status": "completed"
    },
    "tags": []
   },
   "outputs": [
    {
     "name": "stdout",
     "output_type": "stream",
     "text": [
      "Python Env :  3.10.12 | packaged by conda-forge | (main, Jun 23 2023, 22:40:32) [GCC 12.3.0]\n",
      "TensorFlow :  2.12.0\n"
     ]
    }
   ],
   "source": [
    "# Manage Warnings\n",
    "import warnings\n",
    "warnings.filterwarnings(\"ignore\")\n",
    "\n",
    "# Libraris & Modules\n",
    "import os\n",
    "import sys\n",
    "import shutil\n",
    "import re as regex\n",
    "import numpy as np\n",
    "import matplotlib.pyplot as plt\n",
    "from string import punctuation\n",
    "\n",
    "# TensorFlow Log Level\n",
    "os.environ['TF_CPP_MIN_LOG_LEVEL'] = '2'\n",
    "\n",
    "# TensorFlow Libraries\n",
    "import tensorflow as tf\n",
    "\n",
    "# Environment/Versions\n",
    "print(\"Python Env : \", sys.version)\n",
    "print(\"TensorFlow : \", tf.__version__)\n",
    "\n",
    "# Random Generator Seed\n",
    "random_seed = 47"
   ]
  },
  {
   "cell_type": "markdown",
   "id": "348fb3f9",
   "metadata": {
    "papermill": {
     "duration": 0.016239,
     "end_time": "2023-09-02T06:08:35.852083",
     "exception": false,
     "start_time": "2023-09-02T06:08:35.835844",
     "status": "completed"
    },
    "tags": []
   },
   "source": [
    "# Downloading & Exploring Dataset"
   ]
  },
  {
   "cell_type": "code",
   "execution_count": 2,
   "id": "e49743d6",
   "metadata": {
    "execution": {
     "iopub.execute_input": "2023-09-02T06:08:35.884314Z",
     "iopub.status.busy": "2023-09-02T06:08:35.883530Z",
     "iopub.status.idle": "2023-09-02T06:09:09.314665Z",
     "shell.execute_reply": "2023-09-02T06:09:09.313063Z"
    },
    "papermill": {
     "duration": 33.451691,
     "end_time": "2023-09-02T06:09:09.318247",
     "exception": false,
     "start_time": "2023-09-02T06:08:35.866556",
     "status": "completed"
    },
    "tags": []
   },
   "outputs": [
    {
     "name": "stdout",
     "output_type": "stream",
     "text": [
      "Downloading data from https://ai.stanford.edu/~amaas/data/sentiment/aclImdb_v1.tar.gz\n",
      "84125825/84125825 [==============================] - 2s 0us/step\n"
     ]
    }
   ],
   "source": [
    "# Dataset Download Path\n",
    "url = \"https://ai.stanford.edu/~amaas/data/sentiment/aclImdb_v1.tar.gz\"\n",
    "\n",
    "# Retrieve File (and untar)\n",
    "dataset = tf.keras.utils.get_file(fname=\"aclImdb_v1\", \n",
    "                                  origin=url, \n",
    "                                  untar=True, \n",
    "                                  cache_dir=\".\", \n",
    "                                  cache_subdir=\"\")\n",
    "\n",
    "# Dataset Directory\n",
    "dataset_dir = os.path.join(os.path.dirname(dataset), \"aclImdb\")"
   ]
  },
  {
   "cell_type": "code",
   "execution_count": 3,
   "id": "ed2612fc",
   "metadata": {
    "execution": {
     "iopub.execute_input": "2023-09-02T06:09:09.356392Z",
     "iopub.status.busy": "2023-09-02T06:09:09.355928Z",
     "iopub.status.idle": "2023-09-02T06:09:09.366018Z",
     "shell.execute_reply": "2023-09-02T06:09:09.365072Z"
    },
    "papermill": {
     "duration": 0.03202,
     "end_time": "2023-09-02T06:09:09.368160",
     "exception": false,
     "start_time": "2023-09-02T06:09:09.336140",
     "status": "completed"
    },
    "tags": []
   },
   "outputs": [
    {
     "data": {
      "text/plain": [
       "['README', 'train', 'test', 'imdb.vocab', 'imdbEr.txt']"
      ]
     },
     "metadata": {},
     "output_type": "display_data"
    }
   ],
   "source": [
    "# List Dataset Sub-Directories & Files\n",
    "display(os.listdir(dataset_dir))"
   ]
  },
  {
   "cell_type": "code",
   "execution_count": 4,
   "id": "bc6bf313",
   "metadata": {
    "execution": {
     "iopub.execute_input": "2023-09-02T06:09:09.405924Z",
     "iopub.status.busy": "2023-09-02T06:09:09.405179Z",
     "iopub.status.idle": "2023-09-02T06:09:09.412531Z",
     "shell.execute_reply": "2023-09-02T06:09:09.410423Z"
    },
    "papermill": {
     "duration": 0.028812,
     "end_time": "2023-09-02T06:09:09.414756",
     "exception": false,
     "start_time": "2023-09-02T06:09:09.385944",
     "status": "completed"
    },
    "tags": []
   },
   "outputs": [
    {
     "name": "stdout",
     "output_type": "stream",
     "text": [
      "Large Movie Review Dataset v1.0\n",
      "\n",
      "Overview\n",
      "\n",
      "This dataset contains movie reviews along with their associated binary\n",
      "sentiment polarity labels. It is intended to serve as a benchmark for\n",
      "sentiment classification. This document outlines how the dataset was\n",
      "gathered, and how to use the files provided. \n",
      "\n",
      "Dataset \n",
      "\n",
      "The core dataset contains 50,000 reviews split evenly into 25k train\n",
      "and 25k test sets. The overall distribution of labels is balanced (25k\n",
      "pos and 25k neg). We also include an additional 50,000 unlabeled\n",
      "documents for unsupervised learning. \n",
      "\n",
      "In the entire collection, no more than 30 reviews are allowed for any\n",
      "given movie because reviews for the same movie tend to have correlated\n",
      "ratings. Further, the train and test sets contain a disjoint set of\n",
      "movies, so no significant performance is obtained by memorizing\n",
      "movie-unique terms and their associated with observed labels.  In the\n",
      "labeled train/test sets, a negative review has a score <= 4 out of 10,\n",
      "and a positive review has a score >= 7 out of 10. Thus reviews with\n",
      "more neutral ratings are not included in the train/test sets. In the\n",
      "unsupervised set, reviews of any rating are included and there are an\n",
      "even number of reviews > 5 and <= 5.\n",
      "\n",
      "Files\n",
      "\n",
      "There are two top-level directories [train/, test/] corresponding to\n",
      "the training and test sets. Each contains [pos/, neg/] directories for\n",
      "the reviews with binary labels positive and negative. Within these\n",
      "directories, reviews are stored in text files named following the\n",
      "convention [[id]_[rating].txt] where [id] is a unique id and [rating] is\n",
      "the star rating for that review on a 1-10 scale. For example, the file\n",
      "[test/pos/200_8.txt] is the text for a positive-labeled test set\n",
      "example with unique id 200 and star rating 8/10 from IMDb. The\n",
      "[train/unsup/] directory has 0 for all ratings because the ratings are\n",
      "omitted for this portion of the dataset.\n",
      "\n",
      "We also include the IMDb URLs for each review in a separate\n",
      "[urls_[pos, neg, unsup].txt] file. A review with unique id 200 will\n",
      "have its URL on line 200 of this file. Due the ever-changing IMDb, we\n",
      "are unable to link directly to the review, but only to the movie's\n",
      "review page.\n",
      "\n",
      "In addition to the review text files, we include already-tokenized bag\n",
      "of words (BoW) features that were used in our experiments. These \n",
      "are stored in .feat files in the train/test directories. Each .feat\n",
      "file is in LIBSVM format, an ascii sparse-vector format for labeled\n",
      "data.  The feature indices in these files start from 0, and the text\n",
      "tokens corresponding to a feature index is found in [imdb.vocab]. So a\n",
      "line with 0:7 in a .feat file means the first word in [imdb.vocab]\n",
      "(the) appears 7 times in that review.\n",
      "\n",
      "LIBSVM page for details on .feat file format:\n",
      "http://www.csie.ntu.edu.tw/~cjlin/libsvm/\n",
      "\n",
      "We also include [imdbEr.txt] which contains the expected rating for\n",
      "each token in [imdb.vocab] as computed by (Potts, 2011). The expected\n",
      "rating is a good way to get a sense for the average polarity of a word\n",
      "in the dataset.\n",
      "\n",
      "Citing the dataset\n",
      "\n",
      "When using this dataset please cite our ACL 2011 paper which\n",
      "introduces it. This paper also contains classification results which\n",
      "you may want to compare against.\n",
      "\n",
      "\n",
      "@InProceedings{maas-EtAl:2011:ACL-HLT2011,\n",
      "  author    = {Maas, Andrew L.  and  Daly, Raymond E.  and  Pham, Peter T.  and  Huang, Dan  and  Ng, Andrew Y.  and  Potts, Christopher},\n",
      "  title     = {Learning Word Vectors for Sentiment Analysis},\n",
      "  booktitle = {Proceedings of the 49th Annual Meeting of the Association for Computational Linguistics: Human Language Technologies},\n",
      "  month     = {June},\n",
      "  year      = {2011},\n",
      "  address   = {Portland, Oregon, USA},\n",
      "  publisher = {Association for Computational Linguistics},\n",
      "  pages     = {142--150},\n",
      "  url       = {http://www.aclweb.org/anthology/P11-1015}\n",
      "}\n",
      "\n",
      "References\n",
      "\n",
      "Potts, Christopher. 2011. On the negativity of negation. In Nan Li and\n",
      "David Lutz, eds., Proceedings of Semantics and Linguistic Theory 20,\n",
      "636-659.\n",
      "\n",
      "Contact\n",
      "\n",
      "For questions/comments/corrections please contact Andrew Maas\n",
      "amaas@cs.stanford.edu\n",
      "\n"
     ]
    }
   ],
   "source": [
    "# Review Readme File\n",
    "with open(os.path.join(dataset_dir, 'README'), 'r') as f:\n",
    "    print(f.read())"
   ]
  },
  {
   "cell_type": "code",
   "execution_count": 5,
   "id": "276f3606",
   "metadata": {
    "execution": {
     "iopub.execute_input": "2023-09-02T06:09:09.453541Z",
     "iopub.status.busy": "2023-09-02T06:09:09.452839Z",
     "iopub.status.idle": "2023-09-02T06:09:09.461145Z",
     "shell.execute_reply": "2023-09-02T06:09:09.460089Z"
    },
    "papermill": {
     "duration": 0.0305,
     "end_time": "2023-09-02T06:09:09.463838",
     "exception": false,
     "start_time": "2023-09-02T06:09:09.433338",
     "status": "completed"
    },
    "tags": []
   },
   "outputs": [
    {
     "data": {
      "text/plain": [
       "['unsup',\n",
       " 'labeledBow.feat',\n",
       " 'urls_neg.txt',\n",
       " 'unsupBow.feat',\n",
       " 'pos',\n",
       " 'urls_pos.txt',\n",
       " 'neg',\n",
       " 'urls_unsup.txt']"
      ]
     },
     "metadata": {},
     "output_type": "display_data"
    },
    {
     "data": {
      "text/plain": [
       "['labeledBow.feat', 'urls_neg.txt', 'pos', 'urls_pos.txt', 'neg']"
      ]
     },
     "metadata": {},
     "output_type": "display_data"
    }
   ],
   "source": [
    "# Train & Test Directories\n",
    "display(os.listdir(f\"{dataset_dir}/train\"))\n",
    "display(os.listdir(f\"{dataset_dir}/test\"))"
   ]
  },
  {
   "cell_type": "code",
   "execution_count": 6,
   "id": "b610d03b",
   "metadata": {
    "execution": {
     "iopub.execute_input": "2023-09-02T06:09:09.502625Z",
     "iopub.status.busy": "2023-09-02T06:09:09.502246Z",
     "iopub.status.idle": "2023-09-02T06:09:09.510093Z",
     "shell.execute_reply": "2023-09-02T06:09:09.508678Z"
    },
    "papermill": {
     "duration": 0.03038,
     "end_time": "2023-09-02T06:09:09.512330",
     "exception": false,
     "start_time": "2023-09-02T06:09:09.481950",
     "status": "completed"
    },
    "tags": []
   },
   "outputs": [
    {
     "data": {
      "text/plain": [
       "['unsup',\n",
       " 'labeledBow.feat',\n",
       " 'urls_neg.txt',\n",
       " 'unsupBow.feat',\n",
       " 'pos',\n",
       " 'urls_pos.txt',\n",
       " 'neg',\n",
       " 'urls_unsup.txt']"
      ]
     },
     "execution_count": 6,
     "metadata": {},
     "output_type": "execute_result"
    }
   ],
   "source": [
    "# Training Data Directory\n",
    "train_dir = os.path.join(dataset_dir, \"train\")\n",
    "train_dir_items = os.listdir(train_dir)\n",
    "train_dir_items"
   ]
  },
  {
   "cell_type": "code",
   "execution_count": 7,
   "id": "ba73e999",
   "metadata": {
    "execution": {
     "iopub.execute_input": "2023-09-02T06:09:09.552021Z",
     "iopub.status.busy": "2023-09-02T06:09:09.550986Z",
     "iopub.status.idle": "2023-09-02T06:09:09.558211Z",
     "shell.execute_reply": "2023-09-02T06:09:09.557335Z"
    },
    "papermill": {
     "duration": 0.029454,
     "end_time": "2023-09-02T06:09:09.560358",
     "exception": false,
     "start_time": "2023-09-02T06:09:09.530904",
     "status": "completed"
    },
    "tags": []
   },
   "outputs": [
    {
     "data": {
      "text/plain": [
       "['labeledBow.feat', 'urls_neg.txt', 'pos', 'urls_pos.txt', 'neg']"
      ]
     },
     "execution_count": 7,
     "metadata": {},
     "output_type": "execute_result"
    }
   ],
   "source": [
    "# Testing Data Directory\n",
    "test_dir = os.path.join(dataset_dir, \"test\")\n",
    "os.listdir(test_dir)"
   ]
  },
  {
   "cell_type": "code",
   "execution_count": 8,
   "id": "c4527467",
   "metadata": {
    "execution": {
     "iopub.execute_input": "2023-09-02T06:09:09.599761Z",
     "iopub.status.busy": "2023-09-02T06:09:09.599022Z",
     "iopub.status.idle": "2023-09-02T06:09:09.615098Z",
     "shell.execute_reply": "2023-09-02T06:09:09.613695Z"
    },
    "papermill": {
     "duration": 0.038273,
     "end_time": "2023-09-02T06:09:09.617425",
     "exception": false,
     "start_time": "2023-09-02T06:09:09.579152",
     "status": "completed"
    },
    "tags": []
   },
   "outputs": [
    {
     "name": "stdout",
     "output_type": "stream",
     "text": [
      "File : 8942_8.txt\n",
      "\n",
      "A number of contributors have mentioned the age difference between Stewart and Novak. She was 25 and he was 50 when this movie was released. I think that the difference didn't matter for a suspense drama like Vertigo, but it does matter for a romantic comedy. We can easily understand, that is, why his character would be attracted to hers, but it's less clear why hers would be attracted to his.<br /><br />Still, the movie works as a light romantic fantasy. The scene where she stares at him across the cat's head, with her dark painted-on eyebrows flaring and the sounds of her humming and the cat purring, is true magic. It's a little jarring, therefore, when the scene shifts to the top of the Flatiron Building, and we see the age difference very sharply. As he embraces her, she reaches up to run her fingers through his hair, but stops that motion and just brushes her fingertips lightly against his toupee.\n"
     ]
    }
   ],
   "source": [
    "# View a sample positive review.\n",
    "train_files = os.listdir(os.path.join(train_dir, \"pos\"))\n",
    "sample_fname = train_files[2]\n",
    "print(f\"File : {sample_fname}\\n\")\n",
    "with open(os.path.join(train_dir, f\"pos/{sample_fname}\")) as f:\n",
    "    print(f.read())"
   ]
  },
  {
   "cell_type": "code",
   "execution_count": 9,
   "id": "ebf79caf",
   "metadata": {
    "execution": {
     "iopub.execute_input": "2023-09-02T06:09:09.655655Z",
     "iopub.status.busy": "2023-09-02T06:09:09.655018Z",
     "iopub.status.idle": "2023-09-02T06:09:09.740717Z",
     "shell.execute_reply": "2023-09-02T06:09:09.739378Z"
    },
    "papermill": {
     "duration": 0.108406,
     "end_time": "2023-09-02T06:09:09.743868",
     "exception": false,
     "start_time": "2023-09-02T06:09:09.635462",
     "status": "completed"
    },
    "tags": []
   },
   "outputs": [],
   "source": [
    "tf.keras.utils.text_dataset_from_directory?"
   ]
  },
  {
   "cell_type": "code",
   "execution_count": 10,
   "id": "c2e6fc34",
   "metadata": {
    "execution": {
     "iopub.execute_input": "2023-09-02T06:09:09.783384Z",
     "iopub.status.busy": "2023-09-02T06:09:09.782919Z",
     "iopub.status.idle": "2023-09-02T06:09:18.431613Z",
     "shell.execute_reply": "2023-09-02T06:09:18.430349Z"
    },
    "papermill": {
     "duration": 8.67209,
     "end_time": "2023-09-02T06:09:18.434780",
     "exception": false,
     "start_time": "2023-09-02T06:09:09.762690",
     "status": "completed"
    },
    "tags": []
   },
   "outputs": [
    {
     "data": {
      "text/plain": [
       "['README', 'train', 'test', 'train_unsup', 'imdb.vocab', 'imdbEr.txt']"
      ]
     },
     "metadata": {},
     "output_type": "display_data"
    },
    {
     "data": {
      "text/plain": [
       "['labeledBow.feat', 'urls_neg.txt', 'pos', 'urls_pos.txt', 'neg']"
      ]
     },
     "metadata": {},
     "output_type": "display_data"
    },
    {
     "data": {
      "text/plain": [
       "['unsup', 'unsupBow.feat', 'urls_unsup.txt']"
      ]
     },
     "metadata": {},
     "output_type": "display_data"
    }
   ],
   "source": [
    "# Prepare Training Directory as per 'text_dataset_from_directory' Requirements.\n",
    "# -----------------------------------------------------------------------------\n",
    "# Create New Directory for Unsupervised Data\n",
    "train_unsup_dir = os.path.join(dataset_dir, \"train_unsup\")\n",
    "if not os.path.exists(train_unsup_dir):\n",
    "    os.makedirs(train_unsup_dir)\n",
    "else:\n",
    "    pass\n",
    "display(os.listdir(dataset_dir))\n",
    "# Collect Unsupervised Data Files and Directories\n",
    "file_list = [_ for _ in train_dir_items if \"unsup\" in _]\n",
    "# Source & Destination Directories\n",
    "source_dir = train_dir\n",
    "destination_dir = train_unsup_dir\n",
    "# Move Files and Directories\n",
    "for file in file_list:\n",
    "    source_file = os.path.join(source_dir, file)\n",
    "    destination_file = os.path.join(destination_dir, file)\n",
    "    # Move as per Directory/File\n",
    "    if os.path.isdir(source_file):\n",
    "        shutil.copytree(source_file, destination_file)\n",
    "        shutil.rmtree(source_file)\n",
    "    else:\n",
    "        shutil.move(source_file, destination_file)\n",
    "\n",
    "# Review Training & Unsupervised Training Data Directories\n",
    "display(os.listdir(train_dir))\n",
    "display(os.listdir(train_unsup_dir))"
   ]
  },
  {
   "cell_type": "markdown",
   "id": "21480028",
   "metadata": {
    "papermill": {
     "duration": 0.018094,
     "end_time": "2023-09-02T06:09:18.473903",
     "exception": false,
     "start_time": "2023-09-02T06:09:18.455809",
     "status": "completed"
    },
    "tags": []
   },
   "source": [
    "# Training, Validation & Testing Datasets"
   ]
  },
  {
   "cell_type": "code",
   "execution_count": 11,
   "id": "77fad92c",
   "metadata": {
    "execution": {
     "iopub.execute_input": "2023-09-02T06:09:18.513411Z",
     "iopub.status.busy": "2023-09-02T06:09:18.512320Z",
     "iopub.status.idle": "2023-09-02T06:09:25.521242Z",
     "shell.execute_reply": "2023-09-02T06:09:25.519929Z"
    },
    "papermill": {
     "duration": 7.031853,
     "end_time": "2023-09-02T06:09:25.524064",
     "exception": false,
     "start_time": "2023-09-02T06:09:18.492211",
     "status": "completed"
    },
    "tags": []
   },
   "outputs": [
    {
     "name": "stdout",
     "output_type": "stream",
     "text": [
      "Training Dataset :\n",
      "Found 25000 files belonging to 2 classes.\n",
      "Using 20000 files for training.\n",
      "\n",
      "\n",
      "Validation Dataset :\n",
      "Found 25000 files belonging to 2 classes.\n",
      "Using 5000 files for validation.\n",
      "\n",
      "\n",
      "Testing Dataset :\n",
      "Found 25000 files belonging to 2 classes.\n"
     ]
    }
   ],
   "source": [
    "# Training Dataset\n",
    "print(\"Training Dataset :\")\n",
    "train_ds = tf.keras.utils.text_dataset_from_directory(directory=train_dir, \n",
    "                                                      batch_size=8, \n",
    "                                                      validation_split=0.2, \n",
    "                                                      subset='training', \n",
    "                                                      seed=random_seed)\n",
    "\n",
    "# Validation Dataset\n",
    "print(\"\\n\")\n",
    "print(\"Validation Dataset :\")\n",
    "val_ds = tf.keras.utils.text_dataset_from_directory(directory=train_dir, \n",
    "                                                    batch_size=8, \n",
    "                                                    validation_split=0.2, \n",
    "                                                    subset='validation', \n",
    "                                                    seed=random_seed)\n",
    "\n",
    "# Testing Dataset\n",
    "print(\"\\n\")\n",
    "print(\"Testing Dataset :\")\n",
    "test_ds = tf.keras.utils.text_dataset_from_directory(directory=test_dir, \n",
    "                                                     batch_size=8)"
   ]
  },
  {
   "cell_type": "code",
   "execution_count": 12,
   "id": "4d565197",
   "metadata": {
    "execution": {
     "iopub.execute_input": "2023-09-02T06:09:25.565477Z",
     "iopub.status.busy": "2023-09-02T06:09:25.565031Z",
     "iopub.status.idle": "2023-09-02T06:09:25.720957Z",
     "shell.execute_reply": "2023-09-02T06:09:25.719804Z"
    },
    "papermill": {
     "duration": 0.180485,
     "end_time": "2023-09-02T06:09:25.723896",
     "exception": false,
     "start_time": "2023-09-02T06:09:25.543411",
     "status": "completed"
    },
    "tags": []
   },
   "outputs": [
    {
     "name": "stdout",
     "output_type": "stream",
     "text": [
      "Dataset Element 1 (Labels)  : [8]\n",
      "Dataset Element 1 (Reviews) : [8]\n",
      "\n",
      "LABEL  : 0\n",
      "REVIEW : b\"I wouldn't say this is a *bad* movie. Unfortunately for me, I get the feeling that the more you know about fencing, the worse it gets simply due to the fact that it becomes totally unrealistic. I've been fencing since i was 14 years old, and this movie portrays it very poorly. F. Murray Abraham is good (and appears to have some fencing background), but most of the other actors--especially the students--just seem to be lost.\"\n",
      "--------------------------------------------------------------------------------\n",
      "LABEL  : 1\n",
      "REVIEW : b'Family problems abound in real life and that is what this movie is about. Love can hold the members together through out the ordeals and trials and that is what this movie is about. One man, Daddy, has the maturity and fortitude to sustain the family in the face of adversity. The kids grow up,one all be it, in the hard way, to realize that no matter how old they or a parent is, the parent still loves their children and are willing to provide them a cushion when they fall. ALL the actors portraying their characters did outstanding performances. Yes, I shed a tear along the way knowing I had had similar experiences both as a young adult and later as a parent. This true to life is one which every young adult, and parent, would do well to see, although some will not realize it until they too are parents. A must see for those who care about their families.'\n",
      "--------------------------------------------------------------------------------\n",
      "LABEL  : 1\n",
      "REVIEW : b'In \"Anne of Green Gables\" (1934), Marilla Cuthbert (Helen Westley) and Matthew Cuthbert (O.P. Heggie), middle-aged siblings who live together at Green Gables, a farm in Avonlea, on Prince Edward Island, decide to adopt a boy from distant orphanage to help on their farm. But the orphan sent to them is a precocious girl of 14 named Anne Shirley (Dawn Evelyn Paris-a veteran of Disney\\'s series of \"Alice\" shorts who later would adopt her character\\'s name). <br /><br />Anne was only 11 in Lucy Maude Montgomery\\'s source novel but the same actress could not credibly go from 11 to college age during the course of the story. The movie suffers somewhat from this concession, as many of Anne\\'s reactions and much of what she says are more entertaining coming from an eleven-year-old that from a teenager. As in the book, Anne is bright and quick, eager to please but dissatisfied with her name, her build, her freckles, and her long red hair. Being a child of imagination, however, Anne takes much joy in life, and adapts quickly to her new family and the environment of Prince Edward Island.<br /><br />In fact Anne is the original \"Teenage Drama Queen\" and the film\\'s screenwriter elected to focus on this aspect of her character. Which transformed the basic genre from mildly amusing family drama to comedy. A change that delighted audiences and that continues to frustrate reader purists. <br /><br />Since the comedy is very much in the spirit of the Montgomery\\'s story I can see no reason to take issue with the changes, but let this serve as fair warning to anyone expecting a totally faithful adaptation. The comedy element is the strength of the film as it is one of the earliest self-reflexive parodies of Hollywood conventions. The actress Anne Shirley was one of Hollywood\\'s all- time beauties and the film is in black and white. So much of the amusement is in seeing the title character\\'s endless laments about her appearance and hair color contradicted by what is appearing on the screen. Anne regularly regales her no nonsense rural companions with melodramatic lines like: \"If you refuse it will be a lifelong sorrow to me\". Perhaps the funniest moment is when she corrects the spelling of her name on the classroom blackboard. <br /><br />Tom Brown does a nice job as Anne\\'s love interest Gilbert Blythe and Sara Haden steals all the scenes in which she appears as the Cuthbert\\'s pompous neighbor. <br /><br />Then again, what do I know? I\\'m only a child.'\n",
      "--------------------------------------------------------------------------------\n",
      "LABEL  : 1\n",
      "REVIEW : b'Why did it sound like the husband kept calling her Appy ? It ruined a great episode and so I can only give it a 6. Proper grammar and pronunciation are essential to a film.<br /><br />It was very Hellraiser what with all the skin ripping though I dunno how anyone can survive without skin the skin is a vital organ to the body the biggest organ actually and without we would die. The more a horror film is true the more creepy it can be and more entertaining.<br /><br />I do admit though that the stories from the great horror directors are very disappointing and very mediocre. <br /><br />6/10 come on Yankies get your English up to par !'\n",
      "--------------------------------------------------------------------------------\n",
      "LABEL  : 0\n",
      "REVIEW : b'I have to agree with most everyone\\'s opinion that this show was poorly produced as well as written.The acting was not much more above the lower production values however I feel an actor can only rely on the material provided to them and make the best of it. In keeping with this thought I feel it is important to point out that one actor has risen and persevered well beyond this campy to tasteless production to have become a respectable and quite talented performer.I am referring to Laura Harris a Canadian born actor who has etched her way through many poorly produced shows and movies to find a place on the HBO hit \"Dead Like Me\" where she plays the role of Daisy Adair and to her credit she handles this role in an efficient manner.I remember having a typical boyhood crush on the young actress during this series where she played Ashley a soft spoken yet intelligent 7th grader.I felt as though if anyone might \"make it\" from this series it surely would be Laura Harris and true to her nature she did excel in the acting field to win the respect of many producers who now recognize her for her talent as well as unique Nordic blond allure. If you ever do have the opportunity to view this series I recommend that you have something epic to watch after wards such as the \\'Godfather\\' or perhaps \\'Beaches\\' in order to remind yourself that there is after all a great deal of true production integrity and value out there and that this series is only a low-budget reminder of what Laura Harris can simply state about her time on the show and I bet she would quote many a young actors words of defense by saying \"It\\'s a start!\"'\n",
      "--------------------------------------------------------------------------------\n"
     ]
    }
   ],
   "source": [
    "# Review Dataset\n",
    "for x, y in train_ds.take(1):\n",
    "    print(f\"Dataset Element 1 (Labels)  : {tf.shape(y)}\")\n",
    "    print(f\"Dataset Element 1 (Reviews) : {tf.shape(x)}\\n\")\n",
    "    for i in range(5):\n",
    "        tf.print(f\"LABEL  : {y[i]}\")\n",
    "        tf.print(f\"REVIEW : {x[i]}\")\n",
    "        tf.print(\"-\"*80)"
   ]
  },
  {
   "cell_type": "code",
   "execution_count": 13,
   "id": "50f4ee7a",
   "metadata": {
    "execution": {
     "iopub.execute_input": "2023-09-02T06:09:25.769555Z",
     "iopub.status.busy": "2023-09-02T06:09:25.769136Z",
     "iopub.status.idle": "2023-09-02T06:09:25.776396Z",
     "shell.execute_reply": "2023-09-02T06:09:25.775294Z"
    },
    "papermill": {
     "duration": 0.032671,
     "end_time": "2023-09-02T06:09:25.778617",
     "exception": false,
     "start_time": "2023-09-02T06:09:25.745946",
     "status": "completed"
    },
    "tags": []
   },
   "outputs": [
    {
     "data": {
      "text/plain": [
       "['neg', 'pos']"
      ]
     },
     "metadata": {},
     "output_type": "display_data"
    }
   ],
   "source": [
    "# Class Names Corresponding to Index (as Numerical Label)\n",
    "display(train_ds.class_names)"
   ]
  },
  {
   "cell_type": "markdown",
   "id": "71ddbcb2",
   "metadata": {
    "papermill": {
     "duration": 0.021248,
     "end_time": "2023-09-02T06:09:25.821238",
     "exception": false,
     "start_time": "2023-09-02T06:09:25.799990",
     "status": "completed"
    },
    "tags": []
   },
   "source": [
    "# Data Preparation"
   ]
  },
  {
   "cell_type": "markdown",
   "id": "8adbc217",
   "metadata": {
    "papermill": {
     "duration": 0.020933,
     "end_time": "2023-09-02T06:09:25.863897",
     "exception": false,
     "start_time": "2023-09-02T06:09:25.842964",
     "status": "completed"
    },
    "tags": []
   },
   "source": [
    "## Custom Standardization Function\n",
    "\n",
    "Removing Punctuations & HTML Elements."
   ]
  },
  {
   "cell_type": "code",
   "execution_count": 14,
   "id": "be2dc092",
   "metadata": {
    "execution": {
     "iopub.execute_input": "2023-09-02T06:09:25.908560Z",
     "iopub.status.busy": "2023-09-02T06:09:25.908023Z",
     "iopub.status.idle": "2023-09-02T06:09:25.914741Z",
     "shell.execute_reply": "2023-09-02T06:09:25.913640Z"
    },
    "papermill": {
     "duration": 0.031752,
     "end_time": "2023-09-02T06:09:25.917060",
     "exception": false,
     "start_time": "2023-09-02T06:09:25.885308",
     "status": "completed"
    },
    "tags": []
   },
   "outputs": [],
   "source": [
    "# Function Definition : Remove HTML Tags & Punctuations\n",
    "def custom_standardize(input_data):\n",
    "    \"\"\"Remove HTML Tags & Punctuations\"\"\"\n",
    "    \n",
    "    # Convert to Lowercase\n",
    "    lowercase = tf.strings.lower(input_data)\n",
    "    \n",
    "    # Remove the '<br />' Tag\n",
    "    stripped_html = tf.strings.regex_replace(lowercase, \"<br />\", \" \")\n",
    "    \n",
    "    # Remove Punctuations\n",
    "    stripped_html_punc = tf.strings.regex_replace(stripped_html,\n",
    "        \"[%s]\" % regex.escape(punctuation), \"\"\n",
    "    )\n",
    "    \n",
    "    return stripped_html_punc"
   ]
  },
  {
   "cell_type": "markdown",
   "id": "23c71112",
   "metadata": {
    "papermill": {
     "duration": 0.02056,
     "end_time": "2023-09-02T06:09:25.959529",
     "exception": false,
     "start_time": "2023-09-02T06:09:25.938969",
     "status": "completed"
    },
    "tags": []
   },
   "source": [
    "## Tokenization & Vectorization\n",
    "\n",
    "- Custom function for Standardization\n",
    "- Splitting strings into tokens. --> tf.keras.layers.TextVectorization()\n",
    "- Converting tokens into numbers for neural network."
   ]
  },
  {
   "cell_type": "code",
   "execution_count": 15,
   "id": "f3203e25",
   "metadata": {
    "execution": {
     "iopub.execute_input": "2023-09-02T06:09:26.003843Z",
     "iopub.status.busy": "2023-09-02T06:09:26.003340Z",
     "iopub.status.idle": "2023-09-02T06:09:26.074357Z",
     "shell.execute_reply": "2023-09-02T06:09:26.072636Z"
    },
    "papermill": {
     "duration": 0.096136,
     "end_time": "2023-09-02T06:09:26.076749",
     "exception": false,
     "start_time": "2023-09-02T06:09:25.980613",
     "status": "completed"
    },
    "tags": []
   },
   "outputs": [
    {
     "name": "stdout",
     "output_type": "stream",
     "text": [
      "Maximum Features(Tokens) in Entire Dataset :  89600\n",
      "Maximum Output Sequence Length of Vectorization Layer :  250\n"
     ]
    }
   ],
   "source": [
    "# Calculate Maximum Features Value\n",
    "# --------------------------------\n",
    "# Collect all Word Tokens provided in Dataset\n",
    "vocab_tokens = list()\n",
    "with open(os.path.join(dataset_dir, \"imdb.vocab\"), \"r\") as f:\n",
    "    for line in f:\n",
    "        vocab_tokens.append(line.strip())\n",
    "vocab_tokens = set(vocab_tokens)       \n",
    "\n",
    "# Calc. Max. Features rounded to next hundred\n",
    "max_features = round(len(vocab_tokens)+100, -2)\n",
    "\n",
    "# Delete Token Object\n",
    "del vocab_tokens\n",
    "\n",
    "# Display Max. Features\n",
    "print(\"Maximum Features(Tokens) in Entire Dataset : \", max_features)\n",
    "\n",
    "# Set Maximum Sequence Length\n",
    "# ---------------------------\n",
    "max_seq_len = 250\n",
    "print(\"Maximum Output Sequence Length of Vectorization Layer : \", max_seq_len)"
   ]
  },
  {
   "cell_type": "code",
   "execution_count": 16,
   "id": "119fd5d4",
   "metadata": {
    "execution": {
     "iopub.execute_input": "2023-09-02T06:09:26.122358Z",
     "iopub.status.busy": "2023-09-02T06:09:26.121850Z",
     "iopub.status.idle": "2023-09-02T06:09:26.156562Z",
     "shell.execute_reply": "2023-09-02T06:09:26.155398Z"
    },
    "papermill": {
     "duration": 0.060033,
     "end_time": "2023-09-02T06:09:26.159086",
     "exception": false,
     "start_time": "2023-09-02T06:09:26.099053",
     "status": "completed"
    },
    "tags": []
   },
   "outputs": [
    {
     "data": {
      "text/plain": [
       "<keras.layers.preprocessing.text_vectorization.TextVectorization at 0x7d51a688a320>"
      ]
     },
     "metadata": {},
     "output_type": "display_data"
    }
   ],
   "source": [
    "# Vectorization Layer\n",
    "T_Vect = tf.keras.layers.TextVectorization(standardize=custom_standardize, \n",
    "                                           max_tokens=max_features, \n",
    "                                           output_mode=\"int\", \n",
    "                                           output_sequence_length=max_seq_len)\n",
    "display(T_Vect)"
   ]
  },
  {
   "cell_type": "code",
   "execution_count": 17,
   "id": "59b647be",
   "metadata": {
    "execution": {
     "iopub.execute_input": "2023-09-02T06:09:26.204051Z",
     "iopub.status.busy": "2023-09-02T06:09:26.203573Z",
     "iopub.status.idle": "2023-09-02T06:09:31.872859Z",
     "shell.execute_reply": "2023-09-02T06:09:31.871784Z"
    },
    "papermill": {
     "duration": 5.694933,
     "end_time": "2023-09-02T06:09:31.875326",
     "exception": false,
     "start_time": "2023-09-02T06:09:26.180393",
     "status": "completed"
    },
    "tags": []
   },
   "outputs": [
    {
     "data": {
      "text/plain": [
       "<keras.layers.preprocessing.text_vectorization.TextVectorization at 0x7d51a688a320>"
      ]
     },
     "metadata": {},
     "output_type": "display_data"
    }
   ],
   "source": [
    "# Fit State of Preprocessing Layer to the Dataset\n",
    "training_text = train_ds.map(lambda x, _ : x)\n",
    "T_Vect.adapt(training_text)\n",
    "display(T_Vect)"
   ]
  },
  {
   "cell_type": "code",
   "execution_count": 18,
   "id": "526a2ed8",
   "metadata": {
    "execution": {
     "iopub.execute_input": "2023-09-02T06:09:31.922540Z",
     "iopub.status.busy": "2023-09-02T06:09:31.920417Z",
     "iopub.status.idle": "2023-09-02T06:09:32.728423Z",
     "shell.execute_reply": "2023-09-02T06:09:32.726986Z"
    },
    "papermill": {
     "duration": 0.834429,
     "end_time": "2023-09-02T06:09:32.731319",
     "exception": false,
     "start_time": "2023-09-02T06:09:31.896890",
     "status": "completed"
    },
    "tags": []
   },
   "outputs": [
    {
     "name": "stdout",
     "output_type": "stream",
     "text": [
      "Dataset Element 1 (Labels)  : [8]\n",
      "Dataset Element 1 (Reviews) : [8]\n",
      "\n",
      "LABEL  : 0\n",
      "REVIEW : b\"This film turned up on local TV here in South Africa recently and I thought that I'd warn even those who enjoy watching B grade bad movies (which I do)that this is not even amusing. The plot concerns a couple visiting a house in the country. Some strangers appear and .... The problem is that most of the film, obviously shot in the early seventies, consists of extreme wide shots of people walking, in real time and awfully slowly, from A to B. This makes the film tedious in the extreme and the expected blood and gore payoff just never happens. I am really curious - how many people have actually watched this from beginning to end?\"\n",
      "--------------------------------------------------------------------------------\n",
      "VECTORIZED REVIEW :\n",
      "tf.Tensor(\n",
      "[[   11    19   695    54    20   686   246   128     8  1207  2334   998\n",
      "      3    10   197    12   441  2792    53   143    35   350   146   959\n",
      "   1467    79    93    61    10 86342    11     7    21    53  1130     2\n",
      "    111  3268     4   359  4815     4   314     8     2   691    47  4820\n",
      "    926     3     2   429     7    12    87     5     2    19   526   317\n",
      "      8     2   390  3909  3026     5  1468  2188   652     5    83  1259\n",
      "      8   144    59     3  4861  1310    36     4     6   959    11   160\n",
      "      2    19  2297     8     2  1468     3     2   840   531     3   659\n",
      "   6257    41   109   549    10   236    63  1889    86   105    83    25\n",
      "    156   281    11    36   437     6   126     0     0     0     0     0\n",
      "      0     0     0     0     0     0     0     0     0     0     0     0\n",
      "      0     0     0     0     0     0     0     0     0     0     0     0\n",
      "      0     0     0     0     0     0     0     0     0     0     0     0\n",
      "      0     0     0     0     0     0     0     0     0     0     0     0\n",
      "      0     0     0     0     0     0     0     0     0     0     0     0\n",
      "      0     0     0     0     0     0     0     0     0     0     0     0\n",
      "      0     0     0     0     0     0     0     0     0     0     0     0\n",
      "      0     0     0     0     0     0     0     0     0     0     0     0\n",
      "      0     0     0     0     0     0     0     0     0     0     0     0\n",
      "      0     0     0     0     0     0     0     0     0     0     0     0\n",
      "      0     0     0     0     0     0     0     0     0     0]], shape=(1, 250), dtype=int64)\n",
      "--------------------------------------------------------------------------------\n",
      "First Token :  tf.Tensor(11, shape=(), dtype=int64)\n",
      "Corresponding Vocabulary :  this\n",
      "Vocabulary Size :  89600\n"
     ]
    }
   ],
   "source": [
    "# Review Vectorization Layer's Output\n",
    "for x, y in train_ds.take(1):\n",
    "    print(f\"Dataset Element 1 (Labels)  : {tf.shape(y)}\")\n",
    "    print(f\"Dataset Element 1 (Reviews) : {tf.shape(x)}\\n\")\n",
    "    for i in range(1):\n",
    "        tf.print(f\"LABEL  : {y[i]}\")\n",
    "        tf.print(f\"REVIEW : {x[i]}\")\n",
    "        tf.print(\"-\"*80)\n",
    "        tf.print(f\"VECTORIZED REVIEW :\")\n",
    "        vectorized = T_Vect(tf.expand_dims(x[i], -1))\n",
    "        print(vectorized)\n",
    "        tf.print(\"-\"*80)\n",
    "        print(\"First Token : \", vectorized[0][0])\n",
    "        print(\"Corresponding Vocabulary : \", T_Vect.get_vocabulary()[vectorized[0][0]])\n",
    "        print(\"Vocabulary Size : \", len(T_Vect.get_vocabulary()))"
   ]
  },
  {
   "cell_type": "markdown",
   "id": "7a05671f",
   "metadata": {
    "papermill": {
     "duration": 0.021517,
     "end_time": "2023-09-02T06:09:32.775323",
     "exception": false,
     "start_time": "2023-09-02T06:09:32.753806",
     "status": "completed"
    },
    "tags": []
   },
   "source": [
    "# Finalizing Datasets"
   ]
  },
  {
   "cell_type": "code",
   "execution_count": 19,
   "id": "ae43b7bf",
   "metadata": {
    "execution": {
     "iopub.execute_input": "2023-09-02T06:09:32.820739Z",
     "iopub.status.busy": "2023-09-02T06:09:32.820360Z",
     "iopub.status.idle": "2023-09-02T06:09:32.825199Z",
     "shell.execute_reply": "2023-09-02T06:09:32.824256Z"
    },
    "papermill": {
     "duration": 0.030339,
     "end_time": "2023-09-02T06:09:32.827337",
     "exception": false,
     "start_time": "2023-09-02T06:09:32.796998",
     "status": "completed"
    },
    "tags": []
   },
   "outputs": [],
   "source": [
    "# Function to Map Vectorization to Dataset\n",
    "def vectorize(reviews, labels):\n",
    "    return T_Vect(tf.expand_dims(reviews, -1)), labels"
   ]
  },
  {
   "cell_type": "code",
   "execution_count": 20,
   "id": "15033207",
   "metadata": {
    "execution": {
     "iopub.execute_input": "2023-09-02T06:09:32.872898Z",
     "iopub.status.busy": "2023-09-02T06:09:32.872428Z",
     "iopub.status.idle": "2023-09-02T06:09:33.095578Z",
     "shell.execute_reply": "2023-09-02T06:09:33.093965Z"
    },
    "papermill": {
     "duration": 0.249583,
     "end_time": "2023-09-02T06:09:33.098819",
     "exception": false,
     "start_time": "2023-09-02T06:09:32.849236",
     "status": "completed"
    },
    "tags": []
   },
   "outputs": [],
   "source": [
    "# Prepare Training, Testing and Validation Datasets\n",
    "train_ds = train_ds.cache().prefetch(buffer_size=tf.data.AUTOTUNE).map(vectorize)\n",
    "test_ds = test_ds.cache().prefetch(buffer_size=tf.data.AUTOTUNE).map(vectorize)\n",
    "val_ds = val_ds.cache().prefetch(buffer_size=tf.data.AUTOTUNE).map(vectorize)"
   ]
  },
  {
   "cell_type": "markdown",
   "id": "d81c68d3",
   "metadata": {
    "papermill": {
     "duration": 0.022364,
     "end_time": "2023-09-02T06:09:33.144073",
     "exception": false,
     "start_time": "2023-09-02T06:09:33.121709",
     "status": "completed"
    },
    "tags": []
   },
   "source": [
    "# Model Building"
   ]
  },
  {
   "cell_type": "code",
   "execution_count": 21,
   "id": "48010dbd",
   "metadata": {
    "execution": {
     "iopub.execute_input": "2023-09-02T06:09:33.192096Z",
     "iopub.status.busy": "2023-09-02T06:09:33.191598Z",
     "iopub.status.idle": "2023-09-02T06:09:33.329119Z",
     "shell.execute_reply": "2023-09-02T06:09:33.327475Z"
    },
    "papermill": {
     "duration": 0.167662,
     "end_time": "2023-09-02T06:09:33.335538",
     "exception": false,
     "start_time": "2023-09-02T06:09:33.167876",
     "status": "completed"
    },
    "tags": []
   },
   "outputs": [
    {
     "name": "stdout",
     "output_type": "stream",
     "text": [
      "Model: \"Sequential_Text_Classification\"\n",
      "_________________________________________________________________\n",
      " Layer (type)                Output Shape              Param #   \n",
      "=================================================================\n",
      " embedding (Embedding)       (None, None, 24)          2150424   \n",
      "                                                                 \n",
      " dropout (Dropout)           (None, None, 24)          0         \n",
      "                                                                 \n",
      " global_average_pooling1d (G  (None, 24)               0         \n",
      " lobalAveragePooling1D)                                          \n",
      "                                                                 \n",
      " dropout_1 (Dropout)         (None, 24)                0         \n",
      "                                                                 \n",
      " dense (Dense)               (None, 1)                 25        \n",
      "                                                                 \n",
      "=================================================================\n",
      "Total params: 2,150,449\n",
      "Trainable params: 2,150,449\n",
      "Non-trainable params: 0\n",
      "_________________________________________________________________\n"
     ]
    }
   ],
   "source": [
    "# Token Embedding Depth\n",
    "embedding_dim = 24\n",
    "\n",
    "# Define Model\n",
    "model = tf.keras.Sequential([\n",
    "    tf.keras.layers.Embedding(max_features + 1, embedding_dim),\n",
    "    tf.keras.layers.Dropout(0.2),\n",
    "    tf.keras.layers.GlobalAveragePooling1D(),\n",
    "    tf.keras.layers.Dropout(0.2),\n",
    "    tf.keras.layers.Dense(1)],\n",
    "    name=\"Sequential_Text_Classification\"\n",
    ")\n",
    "\n",
    "# Compile Model\n",
    "model.compile(loss=tf.keras.losses.BinaryCrossentropy(from_logits=True),\n",
    "              optimizer='adam',\n",
    "              metrics=tf.metrics.BinaryAccuracy(threshold=0.0))\n",
    "\n",
    "model.summary()"
   ]
  },
  {
   "cell_type": "markdown",
   "id": "816b403d",
   "metadata": {
    "papermill": {
     "duration": 0.03087,
     "end_time": "2023-09-02T06:09:33.393017",
     "exception": false,
     "start_time": "2023-09-02T06:09:33.362147",
     "status": "completed"
    },
    "tags": []
   },
   "source": [
    "# Training"
   ]
  },
  {
   "cell_type": "code",
   "execution_count": 22,
   "id": "4cf7b360",
   "metadata": {
    "execution": {
     "iopub.execute_input": "2023-09-02T06:09:33.444524Z",
     "iopub.status.busy": "2023-09-02T06:09:33.444086Z",
     "iopub.status.idle": "2023-09-02T06:15:10.317752Z",
     "shell.execute_reply": "2023-09-02T06:15:10.316332Z"
    },
    "papermill": {
     "duration": 336.902658,
     "end_time": "2023-09-02T06:15:10.320813",
     "exception": false,
     "start_time": "2023-09-02T06:09:33.418155",
     "status": "completed"
    },
    "tags": []
   },
   "outputs": [
    {
     "name": "stdout",
     "output_type": "stream",
     "text": [
      "Epoch 1/5\n",
      "2500/2500 [==============================] - 59s 23ms/step - loss: 0.5657 - binary_accuracy: 0.7643 - val_loss: 0.4289 - val_binary_accuracy: 0.8340\n",
      "Epoch 2/5\n",
      "2500/2500 [==============================] - 57s 23ms/step - loss: 0.3400 - binary_accuracy: 0.8776 - val_loss: 0.3315 - val_binary_accuracy: 0.8642\n",
      "Epoch 3/5\n",
      "2500/2500 [==============================] - 57s 23ms/step - loss: 0.2512 - binary_accuracy: 0.9097 - val_loss: 0.3027 - val_binary_accuracy: 0.8784\n",
      "Epoch 4/5\n",
      "2500/2500 [==============================] - 58s 23ms/step - loss: 0.1984 - binary_accuracy: 0.9306 - val_loss: 0.2922 - val_binary_accuracy: 0.8802\n",
      "Epoch 5/5\n",
      "2500/2500 [==============================] - 57s 23ms/step - loss: 0.1600 - binary_accuracy: 0.9462 - val_loss: 0.2910 - val_binary_accuracy: 0.8816\n"
     ]
    }
   ],
   "source": [
    "hist = model.fit(train_ds, validation_data=val_ds, epochs=5)"
   ]
  },
  {
   "cell_type": "markdown",
   "id": "89fb2e03",
   "metadata": {
    "papermill": {
     "duration": 0.427327,
     "end_time": "2023-09-02T06:15:11.176925",
     "exception": false,
     "start_time": "2023-09-02T06:15:10.749598",
     "status": "completed"
    },
    "tags": []
   },
   "source": [
    "# Evaluation"
   ]
  },
  {
   "cell_type": "code",
   "execution_count": 23,
   "id": "1688efb7",
   "metadata": {
    "execution": {
     "iopub.execute_input": "2023-09-02T06:15:12.074761Z",
     "iopub.status.busy": "2023-09-02T06:15:12.073903Z",
     "iopub.status.idle": "2023-09-02T06:15:17.787840Z",
     "shell.execute_reply": "2023-09-02T06:15:17.786684Z"
    },
    "papermill": {
     "duration": 6.186024,
     "end_time": "2023-09-02T06:15:17.790344",
     "exception": false,
     "start_time": "2023-09-02T06:15:11.604320",
     "status": "completed"
    },
    "tags": []
   },
   "outputs": [
    {
     "name": "stdout",
     "output_type": "stream",
     "text": [
      "3125/3125 [==============================] - 6s 2ms/step - loss: 0.3088 - binary_accuracy: 0.8749\n",
      "Loss     : 0.31\n",
      "Accuracy : 87.49 %\n"
     ]
    }
   ],
   "source": [
    "loss, accuracy = model.evaluate(test_ds)\n",
    "print(f\"Loss     : {round(loss, 2)}\")\n",
    "print(f\"Accuracy : {round(accuracy*100, 2)} %\")"
   ]
  },
  {
   "cell_type": "markdown",
   "id": "8518bab3",
   "metadata": {
    "papermill": {
     "duration": 0.50904,
     "end_time": "2023-09-02T06:15:18.743537",
     "exception": false,
     "start_time": "2023-09-02T06:15:18.234497",
     "status": "completed"
    },
    "tags": []
   },
   "source": [
    "# Training Metrics"
   ]
  },
  {
   "cell_type": "code",
   "execution_count": 24,
   "id": "6358eab8",
   "metadata": {
    "execution": {
     "iopub.execute_input": "2023-09-02T06:15:19.620636Z",
     "iopub.status.busy": "2023-09-02T06:15:19.620215Z",
     "iopub.status.idle": "2023-09-02T06:15:19.628222Z",
     "shell.execute_reply": "2023-09-02T06:15:19.626833Z"
    },
    "papermill": {
     "duration": 0.449609,
     "end_time": "2023-09-02T06:15:19.630536",
     "exception": false,
     "start_time": "2023-09-02T06:15:19.180927",
     "status": "completed"
    },
    "tags": []
   },
   "outputs": [
    {
     "data": {
      "text/plain": [
       "dict_keys(['loss', 'binary_accuracy', 'val_loss', 'val_binary_accuracy'])"
      ]
     },
     "metadata": {},
     "output_type": "display_data"
    }
   ],
   "source": [
    "history_dict = hist.history\n",
    "display(history_dict.keys())"
   ]
  },
  {
   "cell_type": "code",
   "execution_count": 25,
   "id": "98c15add",
   "metadata": {
    "execution": {
     "iopub.execute_input": "2023-09-02T06:15:20.526875Z",
     "iopub.status.busy": "2023-09-02T06:15:20.526401Z",
     "iopub.status.idle": "2023-09-02T06:15:21.295655Z",
     "shell.execute_reply": "2023-09-02T06:15:21.294252Z"
    },
    "papermill": {
     "duration": 1.218482,
     "end_time": "2023-09-02T06:15:21.298648",
     "exception": false,
     "start_time": "2023-09-02T06:15:20.080166",
     "status": "completed"
    },
    "tags": []
   },
   "outputs": [
    {
     "data": {
      "image/png": "[encoded data removed]",
      "text/plain": [
       "<Figure size 1200x300 with 1 Axes>"
      ]
     },
     "metadata": {},
     "output_type": "display_data"
    },
    {
     "data": {
      "image/png": "[encoded data removed]",
      "text/plain": [
       "<Figure size 1200x300 with 1 Axes>"
      ]
     },
     "metadata": {},
     "output_type": "display_data"
    }
   ],
   "source": [
    "# Define Visualization Data\n",
    "acc = history_dict['binary_accuracy']\n",
    "val_acc = history_dict['val_binary_accuracy']\n",
    "loss = history_dict['loss']\n",
    "val_loss = history_dict['val_loss']\n",
    "\n",
    "# Define Epochs Range\n",
    "epochs = range(1, len(acc) + 1)\n",
    "\n",
    "# Plot Losses\n",
    "plt.figure(figsize=(12,3))\n",
    "plt.plot(epochs, loss, 'rx', label='Training Loss')\n",
    "plt.plot(epochs, val_loss, 'r', label='Validation Loss')\n",
    "plt.title('Training and Validation Loss')\n",
    "plt.xlabel('Epochs')\n",
    "plt.ylabel('Loss')\n",
    "plt.legend()\n",
    "plt.show()\n",
    "\n",
    "# Plot Accuracies\n",
    "plt.figure(figsize=(12,3))\n",
    "plt.plot(epochs, acc, 'gx', label='Training Accuracy')\n",
    "plt.plot(epochs, val_acc, 'g', label='Validation Accuracy')\n",
    "plt.title('Training and Validation Accuracy')\n",
    "plt.xlabel('Epochs')\n",
    "plt.ylabel('Accuracy')\n",
    "plt.legend(loc='lower right')\n",
    "plt.show()"
   ]
  },
  {
   "cell_type": "markdown",
   "id": "6e86781f",
   "metadata": {
    "papermill": {
     "duration": 0.456067,
     "end_time": "2023-09-02T06:15:22.201924",
     "exception": false,
     "start_time": "2023-09-02T06:15:21.745857",
     "status": "completed"
    },
    "tags": []
   },
   "source": [
    "# Exporting Model"
   ]
  },
  {
   "cell_type": "code",
   "execution_count": 26,
   "id": "7ae6afa5",
   "metadata": {
    "execution": {
     "iopub.execute_input": "2023-09-02T06:15:23.153216Z",
     "iopub.status.busy": "2023-09-02T06:15:23.152740Z",
     "iopub.status.idle": "2023-09-02T06:15:33.922638Z",
     "shell.execute_reply": "2023-09-02T06:15:33.920873Z"
    },
    "papermill": {
     "duration": 11.21567,
     "end_time": "2023-09-02T06:15:33.925335",
     "exception": false,
     "start_time": "2023-09-02T06:15:22.709665",
     "status": "completed"
    },
    "tags": []
   },
   "outputs": [
    {
     "name": "stdout",
     "output_type": "stream",
     "text": [
      "Found 25000 files belonging to 2 classes.\n",
      "3125/3125 [==============================] - 8s 3ms/step - loss: 0.3088 - accuracy: 0.8749\n",
      "Loss     : 0.31\n",
      "Accuracy : 87.49 %\n"
     ]
    }
   ],
   "source": [
    "# Define Model for Exporting\n",
    "export_model = tf.keras.Sequential([\n",
    "    T_Vect,\n",
    "    model,\n",
    "    tf.keras.layers.Activation(\"sigmoid\")\n",
    "])\n",
    "\n",
    "# Compile Model\n",
    "export_model.compile(loss=tf.keras.losses.BinaryCrossentropy(from_logits=False), \n",
    "                     optimizer=\"adam\", \n",
    "                     metrics=['accuracy'])\n",
    "\n",
    "# Original Raw Test Data\n",
    "test_raw = tf.keras.utils.text_dataset_from_directory(directory=test_dir, \n",
    "                                                      batch_size=8)\n",
    "# Test Accuracy on Test Data\n",
    "loss, accuracy = export_model.evaluate(test_raw)\n",
    "print(f\"Loss     : {round(loss, 2)}\")\n",
    "print(f\"Accuracy : {round(accuracy*100, 2)} %\")"
   ]
  },
  {
   "cell_type": "code",
   "execution_count": 27,
   "id": "13242243",
   "metadata": {
    "execution": {
     "iopub.execute_input": "2023-09-02T06:15:34.873878Z",
     "iopub.status.busy": "2023-09-02T06:15:34.873262Z",
     "iopub.status.idle": "2023-09-02T06:15:37.830929Z",
     "shell.execute_reply": "2023-09-02T06:15:37.829747Z"
    },
    "papermill": {
     "duration": 3.436012,
     "end_time": "2023-09-02T06:15:37.833891",
     "exception": false,
     "start_time": "2023-09-02T06:15:34.397879",
     "status": "completed"
    },
    "tags": []
   },
   "outputs": [],
   "source": [
    "# Export Model to Directory\n",
    "tf.keras.saving.save_model(model=export_model, \n",
    "                           filepath=\"saved_models\", \n",
    "                           overwrite=True, \n",
    "                           save_format=\"tf\")"
   ]
  },
  {
   "cell_type": "markdown",
   "id": "60f58af7",
   "metadata": {
    "papermill": {
     "duration": 0.467521,
     "end_time": "2023-09-02T06:15:38.760838",
     "exception": false,
     "start_time": "2023-09-02T06:15:38.293317",
     "status": "completed"
    },
    "tags": []
   },
   "source": [
    "# Inference of Exported Model on Fresh Data"
   ]
  },
  {
   "cell_type": "code",
   "execution_count": 28,
   "id": "31c36cc1",
   "metadata": {
    "execution": {
     "iopub.execute_input": "2023-09-02T06:15:39.736341Z",
     "iopub.status.busy": "2023-09-02T06:15:39.735819Z",
     "iopub.status.idle": "2023-09-02T06:15:39.996006Z",
     "shell.execute_reply": "2023-09-02T06:15:39.994811Z"
    },
    "papermill": {
     "duration": 0.785935,
     "end_time": "2023-09-02T06:15:39.998418",
     "exception": false,
     "start_time": "2023-09-02T06:15:39.212483",
     "status": "completed"
    },
    "tags": []
   },
   "outputs": [
    {
     "name": "stdout",
     "output_type": "stream",
     "text": [
      "1/1 [==============================] - 0s 173ms/step\n",
      "------------------------------------\n",
      "Raw Predictions:\n",
      "------------------------------------\n"
     ]
    },
    {
     "data": {
      "text/plain": [
       "array([[0.66497177],\n",
       "       [0.4520464 ],\n",
       "       [0.32514465],\n",
       "       [0.62424576],\n",
       "       [0.56076264]], dtype=float32)"
      ]
     },
     "metadata": {},
     "output_type": "display_data"
    },
    {
     "name": "stdout",
     "output_type": "stream",
     "text": [
      "------------------------------------\n",
      "Predictions as Labels:\n",
      "------------------------------------\n"
     ]
    },
    {
     "data": {
      "text/plain": [
       "array([[1],\n",
       "       [0],\n",
       "       [0],\n",
       "       [1],\n",
       "       [1]])"
      ]
     },
     "metadata": {},
     "output_type": "display_data"
    }
   ],
   "source": [
    "# Example Fresh Data\n",
    "examples = [\n",
    "    \"The movie was great!\",\n",
    "    \"The movie was okay.\",\n",
    "    \"The movie was terrible...\",\n",
    "    \"I thought the movie was enlightening, but my friend thought it as misleading.\",\n",
    "    \"I thought the movie was misleading, but my friend thought it as okay.\"\n",
    "]\n",
    "\n",
    "# Raw Predictions\n",
    "preds = export_model.predict(examples)\n",
    "print(\"-\"*36)\n",
    "print(\"Raw Predictions:\")\n",
    "print(\"-\"*36)\n",
    "display(preds)\n",
    "\n",
    "# Predictions as Labels\n",
    "print(\"-\"*36)\n",
    "print(\"Predictions as Labels:\")\n",
    "print(\"-\"*36)\n",
    "pred_labels = np.where(preds > 0.5, 1, 0)\n",
    "display(pred_labels)"
   ]
  }
 ],
 "kernelspec": {
  "display_name": "Python 3",
  "language": "python",
  "name": "python3"
 },
 "language_info": {
  "codemirror_mode": {
   "name": "ipython",
   "version": 3
  },
  "file_extension": ".py",
  "mimetype": "text/x-python",
  "name": "python",
  "nbconvert_exporter": "python",
  "pygments_lexer": "ipython3",
  "version": "3.6.4"
 },
 "metadata": {
  "kernelspec": {
   "display_name": "Python 3",
   "language": "python",
   "name": "python3"
  },
  "language_info": {
   "codemirror_mode": {
    "name": "ipython",
    "version": 3
   },
   "file_extension": ".py",
   "mimetype": "text/x-python",
   "name": "python",
   "nbconvert_exporter": "python",
   "pygments_lexer": "ipython3",
   "version": "3.10.12"
  },
  "papermill": {
   "default_parameters": {},
   "duration": 448.388569,
   "end_time": "2023-09-02T06:15:42.693020",
   "environment_variables": {},
   "exception": null,
   "input_path": "__notebook__.ipynb",
   "output_path": "__notebook__.ipynb",
   "parameters": {},
   "start_time": "2023-09-02T06:08:14.304451",
   "version": "2.4.0"
  }
 },
 "nbformat": 4,
 "nbformat_minor": 5
}
